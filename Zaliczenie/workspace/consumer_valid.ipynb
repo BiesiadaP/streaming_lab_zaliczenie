{
 "cells": [
  {
   "cell_type": "code",
   "execution_count": null,
   "id": "d81ba96a",
   "metadata": {},
   "outputs": [
    {
     "name": "stdout",
     "output_type": "stream",
     "text": [
      "Inserted into DB: {'device_id': 'sensor-1', 'temperature': 45.8, 'humidity': 66.9, 'event_timestamp': 1747327891.320236}\n",
      "Inserted into DB: {'device_id': 'sensor-0', 'temperature': 15.63, 'humidity': 76.87, 'event_timestamp': 1747327892.3233876}\n",
      "Inserted into DB: {'device_id': 'sensor-1', 'temperature': 46.77, 'humidity': 78.83, 'event_timestamp': 1747327892.8252904}\n",
      "Inserted into DB: {'device_id': 'sensor-2', 'temperature': 20.43, 'humidity': 90.72, 'event_timestamp': 1747327893.3267062}\n",
      "Inserted into DB: {'device_id': 'sensor-0', 'temperature': 38.33, 'humidity': 42.32, 'event_timestamp': 1747327893.827796}\n",
      "Inserted into DB: {'device_id': 'sensor-1', 'temperature': 47.54, 'humidity': 78.73, 'event_timestamp': 1747327894.3293831}\n",
      "Inserted into DB: {'device_id': 'sensor-2', 'temperature': 39.65, 'humidity': 83.54, 'event_timestamp': 1747327894.830712}\n",
      "Inserted into DB: {'device_id': 'sensor-1', 'temperature': 26.89, 'humidity': 85.12, 'event_timestamp': 1747327897.339405}\n",
      "Inserted into DB: {'device_id': 'sensor-1', 'temperature': 34.39, 'humidity': 87.94, 'event_timestamp': 1747327898.843173}\n",
      "Inserted into DB: {'device_id': 'sensor-0', 'temperature': 39.41, 'humidity': 64.48, 'event_timestamp': 1747327899.8455997}\n",
      "Inserted into DB: {'device_id': 'sensor-1', 'temperature': 0.52, 'humidity': 86.41, 'event_timestamp': 1747327900.3470633}\n",
      "Inserted into DB: {'device_id': 'sensor-0', 'temperature': 1.37, 'humidity': 6.31, 'event_timestamp': 1747327901.3491201}\n",
      "Inserted into DB: {'device_id': 'sensor-2', 'temperature': 33.13, 'humidity': 41.48, 'event_timestamp': 1747327902.3515763}\n",
      "Inserted into DB: {'device_id': 'sensor-0', 'temperature': 39.43, 'humidity': 83.03, 'event_timestamp': 1747327902.8522987}\n",
      "Inserted into DB: {'device_id': 'sensor-2', 'temperature': 7.1, 'humidity': 49.98, 'event_timestamp': 1747327903.8558578}\n",
      "Inserted into DB: {'device_id': 'sensor-0', 'temperature': 4.02, 'humidity': 26.78, 'event_timestamp': 1747327904.3577547}\n",
      "Inserted into DB: {'device_id': 'sensor-1', 'temperature': 39.57, 'humidity': 56.07, 'event_timestamp': 1747327904.858661}\n",
      "Inserted into DB: {'device_id': 'sensor-2', 'temperature': 14.08, 'humidity': 19.51, 'event_timestamp': 1747327905.3595998}\n",
      "Inserted into DB: {'device_id': 'sensor-0', 'temperature': 33.02, 'humidity': 37.78, 'event_timestamp': 1747327905.8615458}\n",
      "Inserted into DB: {'device_id': 'sensor-2', 'temperature': 35.41, 'humidity': 71.26, 'event_timestamp': 1747327906.863898}\n",
      "Inserted into DB: {'device_id': 'sensor-1', 'temperature': 46.7, 'humidity': 8.38, 'event_timestamp': 1747327909.3704877}\n",
      "Inserted into DB: {'device_id': 'sensor-2', 'temperature': 18.4, 'humidity': 64.18, 'event_timestamp': 1747327909.872066}\n",
      "Inserted into DB: {'device_id': 'sensor-1', 'temperature': 22.35, 'humidity': 56.49, 'event_timestamp': 1747327912.3794458}\n",
      "Inserted into DB: {'device_id': 'sensor-0', 'temperature': 6.72, 'humidity': 2.16, 'event_timestamp': 1747327913.382036}\n"
     ]
    }
   ],
   "source": [
    "from kafka import KafkaConsumer\n",
    "import psycopg2\n",
    "import json\n",
    "\n",
    "consumer = KafkaConsumer(\n",
    "    'iot_data',\n",
    "    bootstrap_servers = 'kafka_streaming_lab:9092',\n",
    "    auto_offset_reset='earliest',\n",
    "    enable_auto_commit=True,\n",
    "    group_id = 'valid-data',\n",
    "    value_deserializer=lambda m: json.loads(m.decode('utf-8'))\n",
    ")\n",
    "\n",
    "conn = psycopg2.connect(\n",
    "    dbname='mydb',\n",
    "    user='myuser',\n",
    "    password='myuserpass',\n",
    "    host='postgres',\n",
    "    port=5432\n",
    ")\n",
    "cursor = conn.cursor()\n",
    "\n",
    "for msg in consumer:\n",
    "    data = msg.value\n",
    "    cursor.execute(\n",
    "        \"INSERT INTO iot_data (device_id, temperature, humidity, event_timestamp) VALUES (%s, %s, %s, %s)\",\n",
    "        (data['device_id'], data['temperature'], data['humidity'], data['event_timestamp'])\n",
    "    )\n",
    "    conn.commit()\n",
    "    print(f\"Inserted into DB: {data}\")"
   ]
  }
 ],
 "metadata": {
  "kernelspec": {
   "display_name": "nosql_venv",
   "language": "python",
   "name": "python3"
  },
  "language_info": {
   "codemirror_mode": {
    "name": "ipython",
    "version": 3
   },
   "file_extension": ".py",
   "mimetype": "text/x-python",
   "name": "python",
   "nbconvert_exporter": "python",
   "pygments_lexer": "ipython3",
   "version": "3.11.2"
  }
 },
 "nbformat": 4,
 "nbformat_minor": 5
}
