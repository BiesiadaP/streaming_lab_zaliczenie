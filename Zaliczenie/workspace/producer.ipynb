{
 "cells": [
  {
   "cell_type": "code",
   "execution_count": 1,
   "id": "e1216a23",
   "metadata": {},
   "outputs": [
    {
     "name": "stdout",
     "output_type": "stream",
     "text": [
      "Send: {'device_id': 'sensor-0', 'temperature': -9.86, 'humidity': 116.28, 'event_timestamp': 1747327889.3125596}\n",
      "Send: {'device_id': 'sensor-1', 'temperature': 59.65, 'humidity': 40.09, 'event_timestamp': 1747327889.8158782}\n",
      "Send: {'device_id': 'sensor-2', 'temperature': 42.22, 'humidity': 109.49, 'event_timestamp': 1747327890.3174708}\n",
      "Send: {'device_id': 'sensor-0', 'temperature': 25.29, 'humidity': 119.03, 'event_timestamp': 1747327890.8186505}\n",
      "Send: {'device_id': 'sensor-1', 'temperature': 45.8, 'humidity': 66.9, 'event_timestamp': 1747327891.320236}\n",
      "Send: {'device_id': 'sensor-2', 'temperature': 52.02, 'humidity': 99.2, 'event_timestamp': 1747327891.822199}\n",
      "Send: {'device_id': 'sensor-0', 'temperature': 15.63, 'humidity': 76.87, 'event_timestamp': 1747327892.3233876}\n",
      "Send: {'device_id': 'sensor-1', 'temperature': 46.77, 'humidity': 78.83, 'event_timestamp': 1747327892.8252904}\n",
      "Send: {'device_id': 'sensor-2', 'temperature': 20.43, 'humidity': 90.72, 'event_timestamp': 1747327893.3267062}\n",
      "Send: {'device_id': 'sensor-0', 'temperature': 38.33, 'humidity': 42.32, 'event_timestamp': 1747327893.827796}\n",
      "Send: {'device_id': 'sensor-1', 'temperature': 47.54, 'humidity': 78.73, 'event_timestamp': 1747327894.3293831}\n",
      "Send: {'device_id': 'sensor-2', 'temperature': 39.65, 'humidity': 83.54, 'event_timestamp': 1747327894.830712}\n",
      "Send: {'device_id': 'sensor-0', 'temperature': 55.95, 'humidity': 2.46, 'event_timestamp': 1747327895.3321874}\n",
      "Send: {'device_id': 'sensor-1', 'temperature': 24.81, 'humidity': 117.1, 'event_timestamp': 1747327895.8339684}\n",
      "Send: {'device_id': 'sensor-2', 'temperature': 31.63, 'humidity': 118.43, 'event_timestamp': 1747327896.3358545}\n",
      "Send: {'device_id': 'sensor-0', 'temperature': 59.14, 'humidity': 62.32, 'event_timestamp': 1747327896.8375297}\n",
      "Send: {'device_id': 'sensor-1', 'temperature': 26.89, 'humidity': 85.12, 'event_timestamp': 1747327897.339405}\n",
      "Send: {'device_id': 'sensor-2', 'temperature': 54.73, 'humidity': 108.22, 'event_timestamp': 1747327897.8412213}\n",
      "Send: {'device_id': 'sensor-0', 'temperature': 59.0, 'humidity': 77.99, 'event_timestamp': 1747327898.3420353}\n",
      "Send: {'device_id': 'sensor-1', 'temperature': 34.39, 'humidity': 87.94, 'event_timestamp': 1747327898.843173}\n",
      "Send: {'device_id': 'sensor-2', 'temperature': -1.83, 'humidity': 19.64, 'event_timestamp': 1747327899.3442123}\n",
      "Send: {'device_id': 'sensor-0', 'temperature': 39.41, 'humidity': 64.48, 'event_timestamp': 1747327899.8455997}\n",
      "Send: {'device_id': 'sensor-1', 'temperature': 0.52, 'humidity': 86.41, 'event_timestamp': 1747327900.3470633}\n",
      "Send: {'device_id': 'sensor-2', 'temperature': -0.67, 'humidity': 94.91, 'event_timestamp': 1747327900.8479168}\n",
      "Send: {'device_id': 'sensor-0', 'temperature': 1.37, 'humidity': 6.31, 'event_timestamp': 1747327901.3491201}\n",
      "Send: {'device_id': 'sensor-1', 'temperature': -12.75, 'humidity': 79.4, 'event_timestamp': 1747327901.8505595}\n",
      "Send: {'device_id': 'sensor-2', 'temperature': 33.13, 'humidity': 41.48, 'event_timestamp': 1747327902.3515763}\n",
      "Send: {'device_id': 'sensor-0', 'temperature': 39.43, 'humidity': 83.03, 'event_timestamp': 1747327902.8522987}\n",
      "Send: {'device_id': 'sensor-1', 'temperature': 55.27, 'humidity': 85.18, 'event_timestamp': 1747327903.3543007}\n",
      "Send: {'device_id': 'sensor-2', 'temperature': 7.1, 'humidity': 49.98, 'event_timestamp': 1747327903.8558578}\n",
      "Send: {'device_id': 'sensor-0', 'temperature': 4.02, 'humidity': 26.78, 'event_timestamp': 1747327904.3577547}\n",
      "Send: {'device_id': 'sensor-1', 'temperature': 39.57, 'humidity': 56.07, 'event_timestamp': 1747327904.858661}\n",
      "Send: {'device_id': 'sensor-2', 'temperature': 14.08, 'humidity': 19.51, 'event_timestamp': 1747327905.3595998}\n",
      "Send: {'device_id': 'sensor-0', 'temperature': 33.02, 'humidity': 37.78, 'event_timestamp': 1747327905.8615458}\n",
      "Send: {'device_id': 'sensor-1', 'temperature': 25.31, 'humidity': 117.65, 'event_timestamp': 1747327906.3624346}\n",
      "Send: {'device_id': 'sensor-2', 'temperature': 35.41, 'humidity': 71.26, 'event_timestamp': 1747327906.863898}\n",
      "Send: {'device_id': 'sensor-0', 'temperature': 39.67, 'humidity': 109.13, 'event_timestamp': 1747327907.3653052}\n",
      "Send: {'device_id': 'sensor-1', 'temperature': -2.9, 'humidity': 45.05, 'event_timestamp': 1747327907.8662794}\n",
      "Send: {'device_id': 'sensor-2', 'temperature': 55.33, 'humidity': 75.74, 'event_timestamp': 1747327908.367591}\n",
      "Send: {'device_id': 'sensor-0', 'temperature': -4.89, 'humidity': 118.63, 'event_timestamp': 1747327908.8694932}\n",
      "Send: {'device_id': 'sensor-1', 'temperature': 46.7, 'humidity': 8.38, 'event_timestamp': 1747327909.3704877}\n",
      "Send: {'device_id': 'sensor-2', 'temperature': 18.4, 'humidity': 64.18, 'event_timestamp': 1747327909.872066}\n",
      "Send: {'device_id': 'sensor-0', 'temperature': 50.72, 'humidity': 42.68, 'event_timestamp': 1747327910.3730447}\n",
      "Send: {'device_id': 'sensor-1', 'temperature': -9.69, 'humidity': 105.51, 'event_timestamp': 1747327910.8745308}\n",
      "Send: {'device_id': 'sensor-2', 'temperature': 26.69, 'humidity': 109.0, 'event_timestamp': 1747327911.375898}\n",
      "Send: {'device_id': 'sensor-0', 'temperature': -1.35, 'humidity': 24.96, 'event_timestamp': 1747327911.8773742}\n",
      "Send: {'device_id': 'sensor-1', 'temperature': 22.35, 'humidity': 56.49, 'event_timestamp': 1747327912.3794458}\n",
      "Send: {'device_id': 'sensor-2', 'temperature': -14.84, 'humidity': 31.16, 'event_timestamp': 1747327912.8805625}\n",
      "Send: {'device_id': 'sensor-0', 'temperature': 6.72, 'humidity': 2.16, 'event_timestamp': 1747327913.382036}\n",
      "Send: {'device_id': 'sensor-1', 'temperature': -5.15, 'humidity': 93.21, 'event_timestamp': 1747327913.8832304}\n"
     ]
    }
   ],
   "source": [
    "from kafka import KafkaProducer\n",
    "import json\n",
    "import time\n",
    "import random\n",
    "\n",
    "producer = KafkaProducer(\n",
    "    bootstrap_servers='kafka_streaming_lab:9092',\n",
    "    value_serializer=lambda v: json.dumps(v).encode('utf-8')\n",
    ")\n",
    "\n",
    "topic = 'raw_iot'\n",
    "\n",
    "for i in range(50):\n",
    "    msg = {\n",
    "        'device_id': f'sensor-{i % 3}',\n",
    "        'temperature': round(random.uniform(-15, 60),2),\n",
    "        'humidity': round(random.uniform(0, 120), 2),\n",
    "        'event_timestamp': time.time()\n",
    "    }\n",
    "    producer.send(topic, value = msg)\n",
    "    print(f'Send: {msg}')\n",
    "    time.sleep(0.5)\n",
    "\n",
    "producer.flush()\n",
    "producer.close()\n"
   ]
  }
 ],
 "metadata": {
  "kernelspec": {
   "display_name": "nosql_venv",
   "language": "python",
   "name": "python3"
  },
  "language_info": {
   "codemirror_mode": {
    "name": "ipython",
    "version": 3
   },
   "file_extension": ".py",
   "mimetype": "text/x-python",
   "name": "python",
   "nbconvert_exporter": "python",
   "pygments_lexer": "ipython3",
   "version": "3.11.2"
  }
 },
 "nbformat": 4,
 "nbformat_minor": 5
}
