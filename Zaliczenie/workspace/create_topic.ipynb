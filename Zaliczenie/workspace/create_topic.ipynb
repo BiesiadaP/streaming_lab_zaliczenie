{
 "cells": [
  {
   "cell_type": "code",
   "execution_count": 1,
   "id": "beae74de",
   "metadata": {},
   "outputs": [],
   "source": [
    "from confluent_kafka.admin import AdminClient, NewTopic"
   ]
  },
  {
   "cell_type": "markdown",
   "id": "f13cdc32",
   "metadata": {},
   "source": [
    "## List of topics"
   ]
  },
  {
   "cell_type": "code",
   "execution_count": 2,
   "id": "6d9ae2e3",
   "metadata": {},
   "outputs": [],
   "source": [
    "topic_name_list = ['raw_iot', 'iot_data','error_info']"
   ]
  },
  {
   "cell_type": "markdown",
   "id": "57059a4e",
   "metadata": {},
   "source": [
    "## Create topics"
   ]
  },
  {
   "cell_type": "code",
   "execution_count": 3,
   "id": "a6f61541",
   "metadata": {},
   "outputs": [
    {
     "name": "stdout",
     "output_type": "stream",
     "text": [
      "Topic raw_iot created.\n",
      "Topic iot_data created.\n",
      "Topic error_info created.\n"
     ]
    }
   ],
   "source": [
    "admin = AdminClient({\n",
    "    'bootstrap.servers': 'kafka_streaming_lab:9092'\n",
    "})\n",
    "\n",
    "new_topic_list = []\n",
    "\n",
    "for topic in topic_name_list:\n",
    "    new_topic_list.append(NewTopic(topic, num_partitions = 3, replication_factor = 1))\n",
    "\n",
    "fs = admin.create_topics(new_topic_list)\n",
    "\n",
    "for topic,  f in fs.items():\n",
    "    try:\n",
    "        f.result()\n",
    "        print(f'Topic {topic} created.')\n",
    "    except Exception as e:\n",
    "        print(f'Failed to create {topic}: {e}')"
   ]
  }
 ],
 "metadata": {
  "kernelspec": {
   "display_name": "nosql_venv",
   "language": "python",
   "name": "python3"
  },
  "language_info": {
   "codemirror_mode": {
    "name": "ipython",
    "version": 3
   },
   "file_extension": ".py",
   "mimetype": "text/x-python",
   "name": "python",
   "nbconvert_exporter": "python",
   "pygments_lexer": "ipython3",
   "version": "3.11.2"
  }
 },
 "nbformat": 4,
 "nbformat_minor": 5
}
