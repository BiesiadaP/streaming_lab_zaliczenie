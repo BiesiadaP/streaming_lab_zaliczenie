{
 "cells": [
  {
   "cell_type": "code",
   "execution_count": null,
   "id": "8ee0c2c6",
   "metadata": {},
   "outputs": [],
   "source": [
    "from pyspark.sql import SparkSession\n",
    "from pyspark.sql.functions import from_json, col, length, upper\n",
    "from pyspark.sql.types import StructType, StringType, IntegerType\n",
    "\n",
    "# SparkSession z obsługą Kafka + JSON\n",
    "spark = SparkSession.builder \\\n",
    "    .appName(\"StreamingJSONTransform\") \\\n",
    "    .master(\"local[*]\") \\\n",
    "    .config(\"spark.jars.packages\", \",\".join([\n",
    "        \"org.apache.spark:spark-sql-kafka-0-10_2.12:3.5.0\"\n",
    "    ])) \\\n",
    "    .getOrCreate()\n",
    "\n",
    "# Schemat danych JSON\n",
    "json_schema = StructType() \\\n",
    "    .add(\"id\", IntegerType()) \\\n",
    "    .add(\"name\", StringType()) \\\n",
    "    .add(\"message\", StringType())\n",
    "\n",
    "# Strumień z Kafka\n",
    "kafka_stream = spark.readStream \\\n",
    "    .format(\"kafka\") \\\n",
    "    .option(\"kafka.bootstrap.servers\", \"kafka_streaming_lab:9092\") \\\n",
    "    .option(\"subscribe\", \"spark-lab2-topic\") \\\n",
    "    .option(\"startingOffsets\", \"latest\") \\\n",
    "    .load()\n",
    "\n",
    "# Parsowanie JSON z kolumny value\n",
    "parsed = kafka_stream.selectExpr(\"CAST(value AS STRING) as json_str\") \\\n",
    "    .select(from_json(col(\"json_str\"), json_schema).alias(\"data\")) \\\n",
    "    .select(\"data.*\")\n",
    "\n",
    "# Przekształcanie danych\n",
    "transformed = parsed \\\n",
    "    .withColumn(\"name_upper\", upper(col(\"name\"))) \\\n",
    "    .withColumn(\"msg_length\", length(col(\"message\"))) \\\n",
    "    .filter(col(\"msg_length\") > 5)\n",
    "\n",
    "# Wypisz wynik na konsolę\n",
    "query = transformed.writeStream \\\n",
    "    .outputMode(\"append\") \\\n",
    "    .format(\"console\") \\\n",
    "    .option(\"truncate\", \"false\") \\\n",
    "    .start()\n",
    "\n",
    "query.awaitTermination()\n"
   ]
  }
 ],
 "metadata": {
  "language_info": {
   "name": "python"
  }
 },
 "nbformat": 4,
 "nbformat_minor": 5
}
