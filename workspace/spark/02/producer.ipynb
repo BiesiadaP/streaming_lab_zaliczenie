{
 "cells": [
  {
   "cell_type": "code",
   "execution_count": null,
   "id": "3c1ffcfc",
   "metadata": {},
   "outputs": [],
   "source": [
    "from kafka import KafkaProducer\n",
    "import json\n",
    "import time\n",
    "import random\n",
    "\n",
    "# Konfiguracja zakresu\n",
    "id_start = 1\n",
    "id_end = 100  # dowolna liczba\n",
    "\n",
    "# Producent Kafka\n",
    "producer = KafkaProducer(\n",
    "    bootstrap_servers='kafka:9092',\n",
    "    value_serializer=lambda v: json.dumps(v).encode('utf-8')\n",
    ")\n",
    "\n",
    "# Przykładowe imiona i wiadomości\n",
    "names = [\"Anna\", \"Bob\", \"Carla\", \"Daniel\", \"Ewa\", \"Franz\"]\n",
    "messages = [\"Hello\", \"Hi\", \"Kafka test\", \"Stream in Spark\", \"Data incoming\"]\n",
    "\n",
    "# Generowanie i wysyłanie wiadomości\n",
    "for i in range(id_start, id_end + 1):\n",
    "    msg = {\n",
    "        \"id\": i,\n",
    "        \"name\": random.choice(names),\n",
    "        \"message\": random.choice(messages)\n",
    "    }\n",
    "    producer.send(\"spark-lab2-topic\", value=msg)\n",
    "    print(f\"Sent: {msg}\")\n",
    "    time.sleep(0.5)  # możesz skrócić lub usunąć opóźnienie\n",
    "\n",
    "producer.flush()\n",
    "producer.close()\n"
   ]
  }
 ],
 "metadata": {
  "kernelspec": {
   "display_name": "Python 3 (ipykernel)",
   "language": "python",
   "name": "python3"
  },
  "language_info": {
   "codemirror_mode": {
    "name": "ipython",
    "version": 3
   },
   "file_extension": ".py",
   "mimetype": "text/x-python",
   "name": "python",
   "nbconvert_exporter": "python",
   "pygments_lexer": "ipython3",
   "version": "3.11.6"
  }
 },
 "nbformat": 4,
 "nbformat_minor": 5
}
