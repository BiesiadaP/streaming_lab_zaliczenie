{
 "cells": [
  {
   "cell_type": "code",
   "execution_count": null,
   "id": "3c1ffcfc",
   "metadata": {},
   "outputs": [],
   "source": [
    "from kafka import KafkaProducer\n",
    "import json\n",
    "import time\n",
    "\n",
    "producer = KafkaProducer(\n",
    "    bootstrap_servers='kafka_streaming_lab:9092',\n",
    "    value_serializer=lambda v: json.dumps(v).encode('utf-8')\n",
    ")\n",
    "\n",
    "messages = [\n",
    "    {\"id\": 1, \"name\": \"Anna\", \"message\": \"Hello!\"},\n",
    "    {\"id\": 2, \"name\": \"Bob\", \"message\": \"Hi\"},\n",
    "    {\"id\": 3, \"name\": \"Carla\", \"message\": \"Spark is great\"},\n",
    "]\n",
    "\n",
    "for msg in messages:\n",
    "    producer.send(\"spark-lab2-topic\", value=msg)\n",
    "    print(f\"Sent: {msg}\")\n",
    "    time.sleep(1)\n",
    "\n",
    "producer.flush()\n",
    "producer.close()\n"
   ]
  }
 ],
 "metadata": {
  "language_info": {
   "name": "python"
  }
 },
 "nbformat": 4,
 "nbformat_minor": 5
}
