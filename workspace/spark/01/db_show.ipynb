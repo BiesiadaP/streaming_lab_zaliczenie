{
 "cells": [
  {
   "cell_type": "code",
   "execution_count": null,
   "id": "6706e5b8",
   "metadata": {},
   "outputs": [],
   "source": [
    "\n",
    "import psycopg2\n",
    "\n",
    "\n",
    "# Parametry połączenia\n",
    "db_config = {\n",
    "    'host': 'postgres',\n",
    "    'port': 5432,\n",
    "    'database': 'postgres',\n",
    "    'user': 'myuser',\n",
    "    'password': 'myuserpass'\n",
    "}\n",
    "\n",
    "# Połączenie z bazą danych\n",
    "conn = psycopg2.connect(**db_config)\n",
    "\n",
    "# Wczytanie danych do DataFrame\n",
    "query = \"SELECT * FROM kafka_data_01;\"\n",
    "with conn.cursor() as curs:\n",
    "    curs.execute(query)\n",
    "    print(curs.fetchall())\n",
    "\n",
    "# Zamknięcie połączenia\n",
    "conn.close()\n"
   ]
  }
 ],
 "metadata": {
  "kernelspec": {
   "display_name": "Python 3 (ipykernel)",
   "language": "python",
   "name": "python3"
  },
  "language_info": {
   "codemirror_mode": {
    "name": "ipython",
    "version": 3
   },
   "file_extension": ".py",
   "mimetype": "text/x-python",
   "name": "python",
   "nbconvert_exporter": "python",
   "pygments_lexer": "ipython3",
   "version": "3.11.5"
  }
 },
 "nbformat": 4,
 "nbformat_minor": 5
}
