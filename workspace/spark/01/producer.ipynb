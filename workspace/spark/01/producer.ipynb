{
 "cells": [
  {
   "cell_type": "code",
   "execution_count": 1,
   "metadata": {},
   "outputs": [
    {
     "name": "stdout",
     "output_type": "stream",
     "text": [
      "Sent: {'id': 0, 'value': 'message 0'}\n",
      "Sent: {'id': 1, 'value': 'message 1'}\n",
      "Sent: {'id': 2, 'value': 'message 2'}\n",
      "Sent: {'id': 3, 'value': 'message 3'}\n",
      "Sent: {'id': 4, 'value': 'message 4'}\n",
      "Sent: {'id': 5, 'value': 'message 5'}\n",
      "Sent: {'id': 6, 'value': 'message 6'}\n",
      "Sent: {'id': 7, 'value': 'message 7'}\n",
      "Sent: {'id': 8, 'value': 'message 8'}\n",
      "Sent: {'id': 9, 'value': 'message 9'}\n"
     ]
    }
   ],
   "source": [
    "from kafka import KafkaProducer\n",
    "import json\n",
    "import time\n",
    "\n",
    "producer = KafkaProducer(\n",
    "    bootstrap_servers='kafka_streaming_lab:9092',\n",
    "    value_serializer=lambda v: json.dumps(v).encode('utf-8'),\n",
    "    key_serializer=lambda k: str(k).encode('utf-8')\n",
    ")\n",
    "\n",
    "for i in range(10):\n",
    "    msg = {\"id\": i, \"value\": f\"message {i}\"}\n",
    "    producer.send(\"spark-lab1-topic\", key=i, value=msg)\n",
    "    print(f\"Sent: {msg}\")\n",
    "    time.sleep(1)\n",
    "\n",
    "producer.flush()\n",
    "producer.close()\n"
   ]
  }
 ],
 "metadata": {
  "kernelspec": {
   "display_name": "nosql_venv",
   "language": "python",
   "name": "python3"
  },
  "language_info": {
   "codemirror_mode": {
    "name": "ipython",
    "version": 3
   },
   "file_extension": ".py",
   "mimetype": "text/x-python",
   "name": "python",
   "nbconvert_exporter": "python",
   "pygments_lexer": "ipython3",
   "version": "3.11.2"
  }
 },
 "nbformat": 4,
 "nbformat_minor": 2
}
