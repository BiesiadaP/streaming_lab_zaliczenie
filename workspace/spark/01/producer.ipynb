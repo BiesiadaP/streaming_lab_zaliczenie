{
 "cells": [
  {
   "cell_type": "code",
   "execution_count": null,
   "metadata": {},
   "outputs": [],
   "source": [
    "from kafka import KafkaProducer\n",
    "import json\n",
    "import time\n",
    "\n",
    "producer = KafkaProducer(\n",
    "    bootstrap_servers='kafka_streaming_lab:9092',\n",
    "    value_serializer=lambda v: json.dumps(v).encode('utf-8'),\n",
    "    key_serializer=lambda k: str(k).encode('utf-8')\n",
    ")\n",
    "\n",
    "# Na potrzeby obsługi BadRowsPath:\n",
    "# 1. Zmień typ pola \"id\" na String\n",
    "# 2. Zmień nazwę pola \"value\" na \"message\" \n",
    "# 3. Dodaj pole \"extra_field\" z wartością \"extra_value\"\n",
    "\n",
    "for i in range(100):\n",
    "    msg = {\"id\": i, \"value\": f\"message {i}\"}\n",
    "    producer.send(\"spark-lab1-topic\", key=i, value=msg)\n",
    "    print(f\"Sent: {msg}\")\n",
    "    time.sleep(1)\n",
    "\n",
    "producer.flush()\n",
    "producer.close()\n"
   ]
  }
 ],
 "metadata": {
  "kernelspec": {
   "display_name": "Python 3 (ipykernel)",
   "language": "python",
   "name": "python3"
  },
  "language_info": {
   "codemirror_mode": {
    "name": "ipython",
    "version": 3
   },
   "file_extension": ".py",
   "mimetype": "text/x-python",
   "name": "python",
   "nbconvert_exporter": "python",
   "pygments_lexer": "ipython3",
   "version": "3.11.5"
  }
 },
 "nbformat": 4,
 "nbformat_minor": 4
}
