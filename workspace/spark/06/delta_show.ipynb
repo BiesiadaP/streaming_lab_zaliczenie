{
 "cells": [
  {
   "cell_type": "code",
   "execution_count": 1,
   "id": "6706e5b8",
   "metadata": {},
   "outputs": [],
   "source": [
    "import os\n",
    "os.environ[\"PYSPARK_ALLOW_INSECURE_GATEWAY\"] = \"1\"\n",
    "\n",
    "from pyspark.sql import SparkSession\n",
    "\n",
    "\n",
    "# Inicjalizacja SparkSession\n",
    "spark = (\n",
    "    SparkSession.builder\n",
    "    .appName(\"DeltaReader\")\n",
    "    .master(\"local[*]\")\n",
    "    .config(\"spark.jars\", \"/usr/local/spark/jars/delta-core_2.12-2.4.0.jar,/usr/local/spark/jars/delta-storage-2.4.0.jar\")\n",
    "    .config(\"spark.sql.extensions\", \"io.delta.sql.DeltaSparkSessionExtension\")\n",
    "    .config(\"spark.sql.catalog.spark_catalog\", \"org.apache.spark.sql.delta.catalog.DeltaCatalog\")\n",
    "    .getOrCreate()\n",
    ")\n"
   ]
  },
  {
   "cell_type": "code",
   "execution_count": null,
   "id": "b645ac92-5421-4a12-832e-b8a8512a0140",
   "metadata": {},
   "outputs": [],
   "source": [
    "# Ścieżka do pliku Delta\n",
    "SOURCE_PATH = \"/home/jovyan/sink_06/delta\"\n",
    "\n",
    "# Wczytanie danych\n",
    "df = spark.read.format(\"delta\").load(SOURCE_PATH)\n",
    "\n",
    "# Wyświetlenie schematu i danych\n",
    "df.printSchema()\n",
    "df.show(truncate=False)\n",
    "print(df.count())"
   ]
  },
  {
   "cell_type": "markdown",
   "id": "0fd96020-4240-478e-98df-80b2d4ec88e5",
   "metadata": {},
   "source": [
    "# Wersjonowanie danych"
   ]
  },
  {
   "cell_type": "code",
   "execution_count": null,
   "id": "13708492",
   "metadata": {},
   "outputs": [],
   "source": [
    "# Odczyt danych z wersji 0\n",
    "df_v0 = spark.read.format(\"delta\").option(\"versionAsOf\", 1).load(SOURCE_PATH)\n",
    "df_v0.show()"
   ]
  },
  {
   "cell_type": "code",
   "execution_count": null,
   "id": "83e44110",
   "metadata": {},
   "outputs": [],
   "source": [
    "from delta.tables import DeltaTable\n",
    "\n",
    "delta_table = DeltaTable.forPath(spark, SOURCE_PATH)\n",
    "delta_table.history().show(truncate=False)"
   ]
  },
  {
   "cell_type": "markdown",
   "id": "d1a8ebc8-6368-464a-9c20-5c511bbe1141",
   "metadata": {},
   "source": [
    "# Merge"
   ]
  },
  {
   "cell_type": "code",
   "execution_count": 10,
   "id": "66d600ed",
   "metadata": {},
   "outputs": [],
   "source": [
    "updates = spark.createDataFrame([\n",
    "    (5, \"DeltaUser\", \"YOYO\"),   # aktualizacja\n",
    "    (1000, \"DeltaUser1000\", \"YOYO 1000\")  # dodanie nowego\n",
    "], [\"id\", \"name\", \"message\"])\n",
    "\n",
    "delta_table.alias(\"target\").merge(\n",
    "    updates.alias(\"source\"),\n",
    "    \"target.id = source.id\"\n",
    ").whenMatchedUpdate(set={\"target.name\": \"source.name\", \"target.message\": \"source.message\"}) \\\n",
    " .whenNotMatchedInsertAll() \\\n",
    " .execute()"
   ]
  },
  {
   "cell_type": "code",
   "execution_count": null,
   "id": "f3cd1654-33dc-4cc9-9b56-5016e36cb878",
   "metadata": {},
   "outputs": [],
   "source": [
    "df = spark.read.format(\"delta\").load(SOURCE_PATH)\n",
    "\n",
    "# Danych danych po Merge\n",
    "df.where(\"id in (5, 1000)\").show(truncate=False)"
   ]
  },
  {
   "cell_type": "markdown",
   "id": "5b133277-ed5b-420e-8923-4249d6a6f674",
   "metadata": {},
   "source": [
    "# Czyszcsenie wersji"
   ]
  },
  {
   "cell_type": "code",
   "execution_count": null,
   "id": "29547e34",
   "metadata": {},
   "outputs": [],
   "source": [
    "# Uwaga: domyślne minimum to 168 godzin (7 dni)\n",
    "# Ustawienie na 0 wymaga zmiany konfiguracji Spark\n",
    "spark.conf.set(\"spark.databricks.delta.retentionDurationCheck.enabled\", \"false\")\n",
    "delta_table.vacuum(retentionHours=0)"
   ]
  }
 ],
 "metadata": {
  "kernelspec": {
   "display_name": "Python 3 (ipykernel)",
   "language": "python",
   "name": "python3"
  },
  "language_info": {
   "codemirror_mode": {
    "name": "ipython",
    "version": 3
   },
   "file_extension": ".py",
   "mimetype": "text/x-python",
   "name": "python",
   "nbconvert_exporter": "python",
   "pygments_lexer": "ipython3",
   "version": "3.11.5"
  }
 },
 "nbformat": 4,
 "nbformat_minor": 5
}
