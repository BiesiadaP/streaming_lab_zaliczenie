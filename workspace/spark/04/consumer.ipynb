{
 "cells": [
  {
   "cell_type": "code",
   "execution_count": null,
   "id": "bba23be8",
   "metadata": {},
   "outputs": [],
   "source": [
    "from pyspark.sql import SparkSession\n",
    "from pyspark.sql.functions import from_json, col, window\n",
    "from pyspark.sql.types import StructType, StringType, IntegerType, TimestampType\n",
    "\n",
    "# SparkSession z obsługą Kafka i okien czasowych\n",
    "spark = SparkSession.builder \\\n",
    "    .appName(\"WindowedAggregation\") \\\n",
    "    .master(\"local[*]\") \\\n",
    "    .config(\"spark.jars.packages\", \"org.apache.spark:spark-sql-kafka-0-10_2.12:3.5.0\") \\\n",
    "    .getOrCreate()\n",
    "\n",
    "# Schemat danych JSON z timestampem\n",
    "schema = StructType() \\\n",
    "    .add(\"id\", IntegerType()) \\\n",
    "    .add(\"name\", StringType()) \\\n",
    "    .add(\"timestamp\", TimestampType())\n",
    "\n",
    "# Wczytanie danych z Kafka\n",
    "df = spark.readStream \\\n",
    "    .format(\"kafka\") \\\n",
    "    .option(\"kafka.bootstrap.servers\", \"kafka_streaming_lab:9092\") \\\n",
    "    .option(\"subscribe\", \"spark-lab4-topic\") \\\n",
    "    .option(\"startingOffsets\", \"latest\") \\\n",
    "    .load()\n",
    "\n",
    "# Parsowanie JSON z pola value\n",
    "parsed = df.selectExpr(\"CAST(value AS STRING)\") \\\n",
    "    .select(from_json(col(\"value\"), schema).alias(\"data\")) \\\n",
    "    .select(\"data.*\")\n",
    "\n",
    "# Agregacja z użyciem okien czasowych\n",
    "aggregated = parsed \\\n",
    "    .withWatermark(\"timestamp\", \"20 seconds\") \\\n",
    "    .groupBy(\n",
    "        window(col(\"timestamp\"), \"10 seconds\")\n",
    "    ) \\\n",
    "    .count()\n",
    "\n",
    "# Wypisanie wyniku na konsolę\n",
    "query = aggregated.writeStream \\\n",
    "    .outputMode(\"append\") \\\n",
    "    .format(\"console\") \\\n",
    "    .option(\"truncate\", \"false\") \\\n",
    "    .start()\n",
    "\n",
    "query.awaitTermination()\n"
   ]
  }
 ],
 "metadata": {
  "language_info": {
   "name": "python"
  }
 },
 "nbformat": 4,
 "nbformat_minor": 5
}
