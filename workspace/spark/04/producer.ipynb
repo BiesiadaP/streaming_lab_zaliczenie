{
 "cells": [
  {
   "cell_type": "code",
   "execution_count": null,
   "id": "36311b51",
   "metadata": {},
   "outputs": [],
   "source": [
    "from kafka import KafkaProducer\n",
    "import json\n",
    "import time\n",
    "from datetime import datetime\n",
    "\n",
    "producer = KafkaProducer(\n",
    "    bootstrap_servers='kafka_streaming_lab:9092',\n",
    "    value_serializer=lambda v: json.dumps(v, default=str).encode('utf-8')\n",
    ")\n",
    "\n",
    "for i in range(20):\n",
    "    msg = {\n",
    "        \"id\": i,\n",
    "        \"name\": f\"user{i}\",\n",
    "        \"timestamp\": datetime.utcnow().isoformat()\n",
    "    }\n",
    "    producer.send(\"spark-lab4-topic\", value=msg)\n",
    "    print(f\"Sent: {msg}\")\n",
    "    time.sleep(1)\n",
    "\n",
    "producer.flush()\n",
    "producer.close()\n"
   ]
  }
 ],
 "metadata": {
  "language_info": {
   "name": "python"
  }
 },
 "nbformat": 4,
 "nbformat_minor": 5
}
