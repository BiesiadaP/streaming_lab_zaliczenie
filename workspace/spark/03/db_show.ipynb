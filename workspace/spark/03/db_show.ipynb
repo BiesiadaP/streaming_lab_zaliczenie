{
 "cells": [
  {
   "cell_type": "code",
   "execution_count": null,
   "id": "6706e5b8",
   "metadata": {},
   "outputs": [],
   "source": [
    "import os\n",
    "os.environ[\"PYSPARK_ALLOW_INSECURE_GATEWAY\"] = \"1\"\n",
    "\n",
    "from pyspark.sql import SparkSession\n",
    "\n",
    "\n",
    "# Inicjalizacja SparkSession\n",
    "spark = (\n",
    "    SparkSession.builder\n",
    "    .appName(\"ReadParquetExample\")\n",
    "    .master(\"local[*]\")\n",
    "    .getOrCreate()\n",
    "    )\n",
    "\n",
    "# Ścieżka do pliku Parquet\n",
    "SINK_PATH = \"/home/jovyan/sink_03/parquet\"\n",
    "\n",
    "# Wczytanie danych\n",
    "df = spark.read.parquet(SINK_PATH)\n",
    "\n",
    "# Wyświetlenie schematu i danych\n",
    "df.printSchema()\n",
    "df.show(truncate=False)\n",
    "print(df.count())\n"
   ]
  }
 ],
 "metadata": {
  "kernelspec": {
   "display_name": "Python 3 (ipykernel)",
   "language": "python",
   "name": "python3"
  },
  "language_info": {
   "codemirror_mode": {
    "name": "ipython",
    "version": 3
   },
   "file_extension": ".py",
   "mimetype": "text/x-python",
   "name": "python",
   "nbconvert_exporter": "python",
   "pygments_lexer": "ipython3",
   "version": "3.11.6"
  }
 },
 "nbformat": 4,
 "nbformat_minor": 5
}
