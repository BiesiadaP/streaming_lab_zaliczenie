{
 "cells": [
  {
   "cell_type": "code",
   "execution_count": null,
   "id": "4b9fdd88",
   "metadata": {},
   "outputs": [],
   "source": [
    "from kafka import KafkaProducer\n",
    "import json\n",
    "import time\n",
    "from datetime import datetime\n",
    "\n",
    "producer = KafkaProducer(\n",
    "    bootstrap_servers='kafka_streaming_lab:9092',\n",
    "    value_serializer=lambda v: json.dumps(v, default=str).encode('utf-8')\n",
    ")\n",
    "\n",
    "for i in range(10):\n",
    "    msg = {\n",
    "        \"order_id\": i,\n",
    "        \"user_id\": i % 5,\n",
    "        \"amount\": 100 + i,\n",
    "        \"timestamp\": datetime.utcnow().isoformat()\n",
    "    }\n",
    "    producer.send(\"spark-lab5-topic-orders\", value=msg)\n",
    "    time.sleep(1)\n",
    "\n",
    "producer.flush()\n",
    "producer.close()\n"
   ]
  }
 ],
 "metadata": {
  "language_info": {
   "name": "python"
  }
 },
 "nbformat": 4,
 "nbformat_minor": 5
}
