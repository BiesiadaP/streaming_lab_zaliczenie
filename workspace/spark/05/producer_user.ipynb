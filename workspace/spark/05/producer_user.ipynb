{
 "cells": [
  {
   "cell_type": "code",
   "execution_count": null,
   "id": "befcf5bf",
   "metadata": {},
   "outputs": [],
   "source": [
    "from kafka import KafkaProducer\n",
    "import json\n",
    "from datetime import datetime\n",
    "import time\n",
    "\n",
    "producer = KafkaProducer(\n",
    "    bootstrap_servers='kafka_streaming_lab:9092',\n",
    "    value_serializer=lambda v: json.dumps(v, default=str).encode('utf-8')\n",
    ")\n",
    "\n",
    "for i in range(5):\n",
    "    msg = {\n",
    "        \"user_id\": i,\n",
    "        \"user_name\": f\"User{i}\",\n",
    "        \"timestamp\": datetime.utcnow().isoformat()\n",
    "    }\n",
    "    producer.send(\"spark-lab5-topic-users\", value=msg)\n",
    "    time.sleep(3)\n",
    "\n",
    "producer.flush()\n",
    "producer.close()\n"
   ]
  }
 ],
 "metadata": {
  "language_info": {
   "name": "python"
  }
 },
 "nbformat": 4,
 "nbformat_minor": 5
}
