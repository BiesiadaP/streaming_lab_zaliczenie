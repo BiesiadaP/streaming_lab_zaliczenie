{
 "cells": [
  {
   "cell_type": "code",
   "execution_count": 2,
   "id": "befcf5bf",
   "metadata": {},
   "outputs": [
    {
     "name": "stdout",
     "output_type": "stream",
     "text": [
      "{'user_id': 0, 'user_name': 'User0', 'timestamp': '2025-05-10T09:34:22.984258'}\n",
      "{'user_id': 1, 'user_name': 'User1', 'timestamp': '2025-05-10T09:34:26.092365'}\n",
      "{'user_id': 2, 'user_name': 'User2', 'timestamp': '2025-05-10T09:34:29.096520'}\n",
      "{'user_id': 3, 'user_name': 'User3', 'timestamp': '2025-05-10T09:34:32.104276'}\n",
      "{'user_id': 4, 'user_name': 'User4', 'timestamp': '2025-05-10T09:34:35.105959'}\n",
      "{'user_id': 5, 'user_name': 'User5', 'timestamp': '2025-05-10T09:34:38.106720'}\n",
      "{'user_id': 6, 'user_name': 'User6', 'timestamp': '2025-05-10T09:34:41.107564'}\n",
      "{'user_id': 7, 'user_name': 'User7', 'timestamp': '2025-05-10T09:34:44.110873'}\n",
      "{'user_id': 8, 'user_name': 'User8', 'timestamp': '2025-05-10T09:34:47.111555'}\n",
      "{'user_id': 9, 'user_name': 'User9', 'timestamp': '2025-05-10T09:34:50.112266'}\n",
      "{'user_id': 10, 'user_name': 'User10', 'timestamp': '2025-05-10T09:34:53.118631'}\n",
      "{'user_id': 11, 'user_name': 'User11', 'timestamp': '2025-05-10T09:34:56.120271'}\n",
      "{'user_id': 12, 'user_name': 'User12', 'timestamp': '2025-05-10T09:34:59.118406'}\n",
      "{'user_id': 13, 'user_name': 'User13', 'timestamp': '2025-05-10T09:35:02.119328'}\n",
      "{'user_id': 14, 'user_name': 'User14', 'timestamp': '2025-05-10T09:35:05.125754'}\n"
     ]
    }
   ],
   "source": [
    "from kafka import KafkaProducer\n",
    "import json\n",
    "from datetime import datetime\n",
    "import time\n",
    "\n",
    "producer = KafkaProducer(\n",
    "    bootstrap_servers='kafka_streaming_lab:9092',\n",
    "    value_serializer=lambda v: json.dumps(v, default=str).encode('utf-8')\n",
    ")\n",
    "\n",
    "for i in range(15):\n",
    "    msg = {\n",
    "        \"user_id\": i,\n",
    "        \"user_name\": f\"User{i}\",\n",
    "        \"timestamp\": datetime.utcnow().isoformat()\n",
    "    }\n",
    "    producer.send(\"spark-lab5-topic-users\", value=msg)\n",
    "    print(msg)\n",
    "    time.sleep(3)\n",
    "\n",
    "producer.flush()\n",
    "producer.close()\n"
   ]
  },
  {
   "cell_type": "code",
   "execution_count": null,
   "id": "ac50ec0b-a117-4517-9832-6169ad5509b6",
   "metadata": {},
   "outputs": [],
   "source": []
  }
 ],
 "metadata": {
  "kernelspec": {
   "display_name": "Python 3 (ipykernel)",
   "language": "python",
   "name": "python3"
  },
  "language_info": {
   "codemirror_mode": {
    "name": "ipython",
    "version": 3
   },
   "file_extension": ".py",
   "mimetype": "text/x-python",
   "name": "python",
   "nbconvert_exporter": "python",
   "pygments_lexer": "ipython3",
   "version": "3.11.5"
  }
 },
 "nbformat": 4,
 "nbformat_minor": 5
}
