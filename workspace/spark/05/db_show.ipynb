{
 "cells": [
  {
   "cell_type": "code",
   "execution_count": 13,
   "id": "6706e5b8",
   "metadata": {},
   "outputs": [
    {
     "name": "stdout",
     "output_type": "stream",
     "text": [
      "[(1, 1, 101, datetime.datetime(2025, 5, 10, 9, 34, 27, 194541), 'User1', datetime.datetime(2025, 5, 10, 9, 34, 26, 92365)), (6, 1, 106, datetime.datetime(2025, 5, 10, 9, 34, 32, 194909), 'User1', datetime.datetime(2025, 5, 10, 9, 34, 26, 92365)), (3, 3, 103, datetime.datetime(2025, 5, 10, 9, 34, 29, 192766), 'User3', datetime.datetime(2025, 5, 10, 9, 34, 32, 104276))]\n"
     ]
    }
   ],
   "source": [
    "\n",
    "import psycopg2\n",
    "\n",
    "\n",
    "# Parametry połączenia\n",
    "db_config = {\n",
    "    'host': 'postgres',\n",
    "    'port': 5432,\n",
    "    'database': 'postgres',\n",
    "    'user': 'myuser',\n",
    "    'password': 'myuserpass'\n",
    "}\n",
    "\n",
    "# Połączenie z bazą danych\n",
    "conn = psycopg2.connect(**db_config)\n",
    "\n",
    "# Wczytanie danych do DataFrame\n",
    "query = \"SELECT * FROM kafka_data_05;\"\n",
    "with conn.cursor() as curs:\n",
    "    curs.execute(query)\n",
    "    print(curs.fetchall())\n",
    "\n",
    "# Zamknięcie połączenia\n",
    "conn.close()\n"
   ]
  },
  {
   "cell_type": "code",
   "execution_count": null,
   "id": "3e4bdeee-14a1-44e8-ad17-e8e13a3c8be4",
   "metadata": {},
   "outputs": [],
   "source": []
  }
 ],
 "metadata": {
  "kernelspec": {
   "display_name": "Python 3 (ipykernel)",
   "language": "python",
   "name": "python3"
  },
  "language_info": {
   "codemirror_mode": {
    "name": "ipython",
    "version": 3
   },
   "file_extension": ".py",
   "mimetype": "text/x-python",
   "name": "python",
   "nbconvert_exporter": "python",
   "pygments_lexer": "ipython3",
   "version": "3.11.5"
  }
 },
 "nbformat": 4,
 "nbformat_minor": 5
}
