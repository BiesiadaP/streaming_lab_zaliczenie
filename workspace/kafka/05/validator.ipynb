{
 "cells": [
  {
   "cell_type": "code",
   "execution_count": null,
   "metadata": {},
   "outputs": [],
   "source": [
    "from kafka import KafkaConsumer, KafkaProducer\n",
    "import json\n",
    "from jsonschema import validate, ValidationError\n",
    "\n",
    "# Załaduj schemat z pliku\n",
    "with open('sensor_schema.json') as f:\n",
    "    schema = json.load(f)\n",
    "\n",
    "consumer = KafkaConsumer(\n",
    "    'lab5-topic',\n",
    "    bootstrap_servers='kafka_streaming_lab:9092',\n",
    "    auto_offset_reset='earliest',\n",
    "    enable_auto_commit=True,\n",
    "    group_id='lab5-validator',\n",
    "    value_deserializer=lambda m: json.loads(m.decode('utf-8'))\n",
    ")\n",
    "\n",
    "producer = KafkaProducer(\n",
    "    bootstrap_servers='kafka_streaming_lab:9092',\n",
    "    value_serializer=lambda v: json.dumps(v).encode('utf-8')\n",
    ")\n",
    "\n",
    "print(\"Validator started...\")\n",
    "\n",
    "with open(\"invalid_messages.log\", \"w\") as logfile:\n",
    "    for msg in consumer:\n",
    "        data = msg.value\n",
    "        try:\n",
    "            validate(instance=data, schema=schema)\n",
    "            producer.send('lab5-topic-valid', value=data)\n",
    "            print(f\"Valid message: {data}\")\n",
    "        except ValidationError as e:\n",
    "            print(f\"Invalid message: {data}\")\n",
    "            logfile.write(f\"{json.dumps(data)}\\n\")\n"
   ]
  }
 ],
 "metadata": {
  "kernelspec": {
   "display_name": "nosql_venv",
   "language": "python",
   "name": "python3"
  },
  "language_info": {
   "codemirror_mode": {
    "name": "ipython",
    "version": 3
   },
   "file_extension": ".py",
   "mimetype": "text/x-python",
   "name": "python",
   "nbconvert_exporter": "python",
   "pygments_lexer": "ipython3",
   "version": "3.11.2"
  }
 },
 "nbformat": 4,
 "nbformat_minor": 2
}
