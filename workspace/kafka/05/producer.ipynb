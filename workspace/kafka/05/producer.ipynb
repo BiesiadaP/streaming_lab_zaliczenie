{
 "cells": [
  {
   "cell_type": "code",
   "execution_count": null,
   "metadata": {},
   "outputs": [],
   "source": [
    "from kafka import KafkaProducer\n",
    "import json\n",
    "import time\n",
    "import random\n",
    "\n",
    "producer = KafkaProducer(\n",
    "    bootstrap_servers='kafka_streaming_lab:9092',\n",
    "    value_serializer=lambda v: json.dumps(v).encode('utf-8')\n",
    ")\n",
    "\n",
    "topic = 'lab5-topic'\n",
    "\n",
    "# Część danych niezgodnych\n",
    "data_samples = [\n",
    "    {\"sensor_id\": \"sensor-1\", \"temperature\": 23.5, \"timestamp\": time.time()},\n",
    "    {\"sensor_id\": \"sensor-2\", \"temperature\": -99.9, \"timestamp\": time.time()},  # za zimno\n",
    "    {\"sensor_id\": 123, \"temperature\": 25.0, \"timestamp\": time.time()},  # sensor_id nie string\n",
    "    {\"temperature\": 30.0, \"timestamp\": time.time()},  # brak sensor_id\n",
    "    {\"sensor_id\": \"sensor-3\", \"temperature\": 45.2, \"timestamp\": time.time()}\n",
    "]\n",
    "\n",
    "for msg in data_samples:\n",
    "    producer.send(topic, value=msg)\n",
    "    print(f\"Sent: {msg}\")\n",
    "    time.sleep(0.5)\n",
    "\n",
    "producer.flush()\n",
    "producer.close()\n"
   ]
  }
 ],
 "metadata": {
  "kernelspec": {
   "display_name": "nosql_venv",
   "language": "python",
   "name": "python3"
  },
  "language_info": {
   "name": "python",
   "version": "3.11.2"
  }
 },
 "nbformat": 4,
 "nbformat_minor": 2
}
