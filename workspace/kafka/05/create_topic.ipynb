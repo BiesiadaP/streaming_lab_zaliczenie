{
 "cells": [
  {
   "cell_type": "code",
   "execution_count": 1,
   "metadata": {},
   "outputs": [],
   "source": [
    "from confluent_kafka.admin import AdminClient, NewTopic"
   ]
  },
  {
   "cell_type": "markdown",
   "metadata": {},
   "source": [
    "### List of Partitions"
   ]
  },
  {
   "cell_type": "code",
   "execution_count": 2,
   "metadata": {},
   "outputs": [],
   "source": [
    "topic_name_list = [\"lab5-topic\", \"lab5-topic-valid\"]"
   ]
  },
  {
   "cell_type": "markdown",
   "metadata": {},
   "source": [
    "### Create Topics"
   ]
  },
  {
   "cell_type": "code",
   "execution_count": null,
   "metadata": {},
   "outputs": [],
   "source": [
    "admin = AdminClient({\n",
    "    'bootstrap.servers': 'kafka_streaming_lab:9092'\n",
    "})\n",
    "\n",
    "new_topic_list = []\n",
    "for topic_name in topic_name_list:\n",
    "    new_topic_list.append(NewTopic(topic_name, num_partitions=3, replication_factor=1))\n",
    "\n",
    "fs = admin.create_topics(new_topic_list)\n",
    "\n",
    "for topic, f in fs.items():\n",
    "    try:\n",
    "        f.result()\n",
    "        print(f\"Topic '{topic}' created.\")\n",
    "    except Exception as e:\n",
    "        print(f\"Failed to create topic '{topic}': {e}\")\n"
   ]
  },
  {
   "cell_type": "markdown",
   "metadata": {},
   "source": [
    "### Delete Topics"
   ]
  },
  {
   "cell_type": "code",
   "execution_count": 9,
   "metadata": {},
   "outputs": [],
   "source": [
    "# admin = AdminClient({\n",
    "#     'bootstrap.servers': 'kafka_streaming_lab:9092'\n",
    "# })\n",
    "\n",
    "# fs = admin.delete_topics(topic_name_list, operation_timeout=30)\n",
    "\n",
    "# for topic, f in fs.items():\n",
    "#     try:\n",
    "#         f.result()\n",
    "#         print(f\"Topic '{topic}' successfully deleted.\")\n",
    "#     except Exception as e:\n",
    "#         print(f\"Failed to delete topic '{topic}': {e}\")\n"
   ]
  },
  {
   "cell_type": "markdown",
   "metadata": {},
   "source": [
    "### Check No of Partitions for Topic"
   ]
  },
  {
   "cell_type": "code",
   "execution_count": null,
   "metadata": {},
   "outputs": [],
   "source": [
    "from confluent_kafka import Consumer\n",
    "\n",
    "conf = {\n",
    "    'bootstrap.servers': 'kafka_streaming_lab:9092',  # użyj odpowiedniego adresu brokera\n",
    "    'group.id': 'meta-checker',\n",
    "    'auto.offset.reset': 'earliest'\n",
    "}\n",
    "\n",
    "consumer = Consumer(conf)\n",
    "\n",
    "# Pobierz metadane o topicu\n",
    "topic = \"lab5-topic\"\n",
    "metadata = consumer.list_topics(topic=topic, timeout=10)\n",
    "\n",
    "if topic in metadata.topics:\n",
    "    partitions = metadata.topics[topic].partitions\n",
    "    print(f\"Topic '{topic}' has {len(partitions)} partition(s).\")\n",
    "else:\n",
    "    print(f\"Topic '{topic}' not found.\")\n"
   ]
  }
 ],
 "metadata": {
  "kernelspec": {
   "display_name": "nosql_venv",
   "language": "python",
   "name": "python3"
  },
  "language_info": {
   "codemirror_mode": {
    "name": "ipython",
    "version": 3
   },
   "file_extension": ".py",
   "mimetype": "text/x-python",
   "name": "python",
   "nbconvert_exporter": "python",
   "pygments_lexer": "ipython3",
   "version": "3.11.2"
  }
 },
 "nbformat": 4,
 "nbformat_minor": 2
}
