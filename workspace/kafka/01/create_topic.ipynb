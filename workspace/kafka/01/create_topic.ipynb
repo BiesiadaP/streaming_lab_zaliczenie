{
 "cells": [
  {
   "cell_type": "code",
   "execution_count": 12,
   "metadata": {},
   "outputs": [],
   "source": [
    "from confluent_kafka.admin import AdminClient, NewTopic"
   ]
  },
  {
   "cell_type": "code",
   "execution_count": 16,
   "metadata": {},
   "outputs": [],
   "source": [
    "topic_name_list = [\"lab1-topic\"]"
   ]
  },
  {
   "cell_type": "code",
   "execution_count": null,
   "metadata": {},
   "outputs": [],
   "source": [
    "admin = AdminClient({\n",
    "    'bootstrap.servers': 'kafka_streaming_lab:9092'\n",
    "})\n",
    "\n",
    "new_topic_list = []\n",
    "for topic_name in topic_name_list:\n",
    "    new_topic_list.append(NewTopic(topic_name, num_partitions=3, replication_factor=1))\n",
    "\n",
    "fs = admin.create_topics(new_topic_list)\n",
    "\n",
    "for topic, f in fs.items():\n",
    "    try:\n",
    "        f.result()\n",
    "        print(f\"Topic '{topic}' created.\")\n",
    "    except Exception as e:\n",
    "        print(f\"Failed to create topic '{topic}': {e}\")\n"
   ]
  },
  {
   "cell_type": "code",
   "execution_count": null,
   "metadata": {},
   "outputs": [],
   "source": [
    "admin = AdminClient({\n",
    "    'bootstrap.servers': 'kafka_streaming_lab:9092'\n",
    "})\n",
    "\n",
    "fs = admin.delete_topics(topic_name_list, operation_timeout=30)\n",
    "\n",
    "for topic, f in fs.items():\n",
    "    try:\n",
    "        f.result()\n",
    "        print(f\"Topic '{topic}' successfully deleted.\")\n",
    "    except Exception as e:\n",
    "        print(f\"Failed to delete topic '{topic}': {e}\")\n"
   ]
  }
 ],
 "metadata": {
  "kernelspec": {
   "display_name": "nosql_venv",
   "language": "python",
   "name": "python3"
  },
  "language_info": {
   "codemirror_mode": {
    "name": "ipython",
    "version": 3
   },
   "file_extension": ".py",
   "mimetype": "text/x-python",
   "name": "python",
   "nbconvert_exporter": "python",
   "pygments_lexer": "ipython3",
   "version": "3.11.2"
  }
 },
 "nbformat": 4,
 "nbformat_minor": 2
}
