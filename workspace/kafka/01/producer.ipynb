{
 "cells": [
  {
   "cell_type": "code",
   "execution_count": null,
   "id": "5de85df8",
   "metadata": {},
   "outputs": [],
   "source": [
    "from kafka import KafkaProducer\n",
    "import time\n",
    "\n",
    "producer = KafkaProducer(bootstrap_servers='kafka_streaming_lab:9092')\n",
    "\n",
    "topic = 'lab1-topic'\n",
    "\n",
    "for i in range(100):\n",
    "    message = f\"Message {200+i}\"\n",
    "    producer.send(topic, value=message.encode('utf-8'))\n",
    "    print(f\"Sent: {message}\")\n",
    "    time.sleep(1)\n",
    "\n",
    "producer.flush()\n",
    "producer.close()\n"
   ]
  }
 ],
 "metadata": {
  "kernelspec": {
   "display_name": "nosql_venv",
   "language": "python",
   "name": "python3"
  },
  "language_info": {
   "codemirror_mode": {
    "name": "ipython",
    "version": 3
   },
   "file_extension": ".py",
   "mimetype": "text/x-python",
   "name": "python",
   "nbconvert_exporter": "python",
   "pygments_lexer": "ipython3",
   "version": "3.11.2"
  }
 },
 "nbformat": 4,
 "nbformat_minor": 5
}
