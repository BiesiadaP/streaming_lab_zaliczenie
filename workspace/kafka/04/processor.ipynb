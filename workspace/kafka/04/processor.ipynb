{
 "cells": [
  {
   "cell_type": "code",
   "execution_count": null,
   "metadata": {},
   "outputs": [],
   "source": [
    "from kafka import KafkaConsumer, KafkaProducer\n",
    "import json\n",
    "\n",
    "# próg filtrowania\n",
    "TEMP_THRESHOLD = 30.0\n",
    "\n",
    "consumer = KafkaConsumer(\n",
    "    'lab4-topic',\n",
    "    bootstrap_servers='kafka_streaming_lab:9092',\n",
    "    auto_offset_reset='earliest',\n",
    "    enable_auto_commit=True,\n",
    "    group_id='lab4-router',\n",
    "    value_deserializer=lambda m: json.loads(m.decode('utf-8'))\n",
    ")\n",
    "\n",
    "producer = KafkaProducer(\n",
    "    bootstrap_servers='kafka_streaming_lab:9092',\n",
    "    value_serializer=lambda v: json.dumps(v).encode('utf-8')\n",
    ")\n",
    "\n",
    "print(\"Routing processor started...\")\n",
    "\n",
    "for msg in consumer:\n",
    "    data = msg.value\n",
    "    if data['temperature'] <= TEMP_THRESHOLD:\n",
    "        target_topic = 'lab4-topic-valid'\n",
    "    else:\n",
    "        target_topic = 'lab4-topic-invalid'\n",
    "    producer.send(target_topic, value=data)\n",
    "    print(f\"Routed to {target_topic}: {data}\")\n"
   ]
  }
 ],
 "metadata": {
  "kernelspec": {
   "display_name": "nosql_venv",
   "language": "python",
   "name": "python3"
  },
  "language_info": {
   "codemirror_mode": {
    "name": "ipython",
    "version": 3
   },
   "file_extension": ".py",
   "mimetype": "text/x-python",
   "name": "python",
   "nbconvert_exporter": "python",
   "pygments_lexer": "ipython3",
   "version": "3.11.2"
  }
 },
 "nbformat": 4,
 "nbformat_minor": 2
}
