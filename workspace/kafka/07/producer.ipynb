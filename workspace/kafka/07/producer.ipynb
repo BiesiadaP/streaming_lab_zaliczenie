{
 "cells": [
  {
   "cell_type": "code",
   "execution_count": 1,
   "metadata": {},
   "outputs": [
    {
     "name": "stdout",
     "output_type": "stream",
     "text": [
      "Sent: {'sensor_id': 'sensor-0', 'temperature': 24.3, 'timestamp': 1743886730.3723106}\n",
      "Sent: {'sensor_id': 'sensor-1', 'temperature': 18.46, 'timestamp': 1743886730.8756227}\n",
      "Sent: {'sensor_id': 'sensor-2', 'temperature': 25.62, 'timestamp': 1743886731.3775785}\n",
      "Sent: {'sensor_id': 'sensor-0', 'temperature': 19.18, 'timestamp': 1743886731.880237}\n",
      "Sent: {'sensor_id': 'sensor-1', 'temperature': 23.81, 'timestamp': 1743886732.3809996}\n",
      "Sent: {'sensor_id': 'sensor-2', 'temperature': 28.48, 'timestamp': 1743886732.8815603}\n",
      "Sent: {'sensor_id': 'sensor-0', 'temperature': 25.33, 'timestamp': 1743886733.3826199}\n",
      "Sent: {'sensor_id': 'sensor-1', 'temperature': 26.46, 'timestamp': 1743886733.8837106}\n",
      "Sent: {'sensor_id': 'sensor-2', 'temperature': 20.18, 'timestamp': 1743886734.3842485}\n",
      "Sent: {'sensor_id': 'sensor-0', 'temperature': 20.0, 'timestamp': 1743886734.885029}\n",
      "Sent: {'sensor_id': 'sensor-1', 'temperature': 23.48, 'timestamp': 1743886735.385854}\n",
      "Sent: {'sensor_id': 'sensor-2', 'temperature': 15.84, 'timestamp': 1743886735.8870795}\n",
      "Sent: {'sensor_id': 'sensor-0', 'temperature': 19.43, 'timestamp': 1743886736.387718}\n",
      "Sent: {'sensor_id': 'sensor-1', 'temperature': 22.05, 'timestamp': 1743886736.889143}\n",
      "Sent: {'sensor_id': 'sensor-2', 'temperature': 22.77, 'timestamp': 1743886737.3899488}\n",
      "Sent: {'sensor_id': 'sensor-0', 'temperature': 27.58, 'timestamp': 1743886737.890402}\n",
      "Sent: {'sensor_id': 'sensor-1', 'temperature': 15.8, 'timestamp': 1743886738.3914485}\n",
      "Sent: {'sensor_id': 'sensor-2', 'temperature': 23.22, 'timestamp': 1743886738.892256}\n",
      "Sent: {'sensor_id': 'sensor-0', 'temperature': 25.33, 'timestamp': 1743886739.3929014}\n",
      "Sent: {'sensor_id': 'sensor-1', 'temperature': 23.36, 'timestamp': 1743886739.8936815}\n",
      "Sent: {'sensor_id': 'sensor-2', 'temperature': 28.11, 'timestamp': 1743886740.3945093}\n",
      "Sent: {'sensor_id': 'sensor-0', 'temperature': 15.82, 'timestamp': 1743886740.8959808}\n",
      "Sent: {'sensor_id': 'sensor-1', 'temperature': 18.73, 'timestamp': 1743886741.3975387}\n",
      "Sent: {'sensor_id': 'sensor-2', 'temperature': 23.15, 'timestamp': 1743886741.898548}\n",
      "Sent: {'sensor_id': 'sensor-0', 'temperature': 22.96, 'timestamp': 1743886742.3996475}\n",
      "Sent: {'sensor_id': 'sensor-1', 'temperature': 18.53, 'timestamp': 1743886742.9006987}\n",
      "Sent: {'sensor_id': 'sensor-2', 'temperature': 23.95, 'timestamp': 1743886743.4020495}\n",
      "Sent: {'sensor_id': 'sensor-0', 'temperature': 27.91, 'timestamp': 1743886743.90299}\n",
      "Sent: {'sensor_id': 'sensor-1', 'temperature': 18.7, 'timestamp': 1743886744.40385}\n",
      "Sent: {'sensor_id': 'sensor-2', 'temperature': 29.78, 'timestamp': 1743886744.9046526}\n",
      "Sent: {'sensor_id': 'sensor-0', 'temperature': 16.06, 'timestamp': 1743886745.4054234}\n",
      "Sent: {'sensor_id': 'sensor-1', 'temperature': 20.76, 'timestamp': 1743886745.9070666}\n",
      "Sent: {'sensor_id': 'sensor-2', 'temperature': 22.31, 'timestamp': 1743886746.4080431}\n",
      "Sent: {'sensor_id': 'sensor-0', 'temperature': 19.89, 'timestamp': 1743886746.910527}\n",
      "Sent: {'sensor_id': 'sensor-1', 'temperature': 17.42, 'timestamp': 1743886747.4136505}\n",
      "Sent: {'sensor_id': 'sensor-2', 'temperature': 25.45, 'timestamp': 1743886747.915318}\n",
      "Sent: {'sensor_id': 'sensor-0', 'temperature': 19.09, 'timestamp': 1743886748.4171138}\n",
      "Sent: {'sensor_id': 'sensor-1', 'temperature': 28.33, 'timestamp': 1743886748.9185903}\n",
      "Sent: {'sensor_id': 'sensor-2', 'temperature': 27.23, 'timestamp': 1743886749.419397}\n",
      "Sent: {'sensor_id': 'sensor-0', 'temperature': 25.83, 'timestamp': 1743886749.92024}\n",
      "Sent: {'sensor_id': 'sensor-1', 'temperature': 21.22, 'timestamp': 1743886750.421344}\n",
      "Sent: {'sensor_id': 'sensor-2', 'temperature': 15.96, 'timestamp': 1743886750.9223094}\n",
      "Sent: {'sensor_id': 'sensor-0', 'temperature': 16.14, 'timestamp': 1743886751.423354}\n",
      "Sent: {'sensor_id': 'sensor-1', 'temperature': 22.13, 'timestamp': 1743886751.9244008}\n",
      "Sent: {'sensor_id': 'sensor-2', 'temperature': 29.57, 'timestamp': 1743886752.4251273}\n",
      "Sent: {'sensor_id': 'sensor-0', 'temperature': 18.59, 'timestamp': 1743886752.926835}\n",
      "Sent: {'sensor_id': 'sensor-1', 'temperature': 27.17, 'timestamp': 1743886753.4298346}\n",
      "Sent: {'sensor_id': 'sensor-2', 'temperature': 20.17, 'timestamp': 1743886753.933231}\n",
      "Sent: {'sensor_id': 'sensor-0', 'temperature': 22.54, 'timestamp': 1743886754.4359965}\n",
      "Sent: {'sensor_id': 'sensor-1', 'temperature': 16.74, 'timestamp': 1743886754.9371948}\n"
     ]
    }
   ],
   "source": [
    "from kafka import KafkaProducer\n",
    "import json\n",
    "import time\n",
    "import random\n",
    "\n",
    "producer = KafkaProducer(\n",
    "    bootstrap_servers='kafka_streaming_lab:9092',\n",
    "    value_serializer=lambda v: json.dumps(v).encode('utf-8')\n",
    ")\n",
    "\n",
    "topic = 'lab7-topic'\n",
    "\n",
    "for i in range(50):\n",
    "    msg = {\n",
    "        \"sensor_id\": f\"sensor-{i % 3}\",\n",
    "        \"temperature\": round(random.uniform(15, 30), 2),\n",
    "        \"timestamp\": time.time()\n",
    "    }\n",
    "    producer.send(topic, value=msg)\n",
    "    print(f\"Sent: {msg}\")\n",
    "    time.sleep(0.5)\n",
    "\n",
    "producer.flush()\n",
    "producer.close()\n"
   ]
  }
 ],
 "metadata": {
  "kernelspec": {
   "display_name": "nosql_venv",
   "language": "python",
   "name": "python3"
  },
  "language_info": {
   "codemirror_mode": {
    "name": "ipython",
    "version": 3
   },
   "file_extension": ".py",
   "mimetype": "text/x-python",
   "name": "python",
   "nbconvert_exporter": "python",
   "pygments_lexer": "ipython3",
   "version": "3.11.2"
  }
 },
 "nbformat": 4,
 "nbformat_minor": 2
}
