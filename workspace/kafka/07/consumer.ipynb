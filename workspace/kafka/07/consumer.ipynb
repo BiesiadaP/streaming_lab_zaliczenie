{
 "cells": [
  {
   "cell_type": "code",
   "execution_count": null,
   "metadata": {},
   "outputs": [],
   "source": [
    "from kafka import KafkaConsumer\n",
    "import psycopg2\n",
    "import json\n",
    "\n",
    "consumer = KafkaConsumer(\n",
    "    'lab7-topic',\n",
    "    bootstrap_servers='kafka_streaming_lab:9092',\n",
    "    auto_offset_reset='earliest',\n",
    "    enable_auto_commit=True,\n",
    "    group_id='lab7-pg',\n",
    "    value_deserializer=lambda m: json.loads(m.decode('utf-8'))\n",
    ")\n",
    "\n",
    "# Połączenie z PostgreSQL\n",
    "conn = psycopg2.connect(\n",
    "    dbname='mydb',\n",
    "    user='myuser',\n",
    "    password='myuserpass',\n",
    "    host='postgres',\n",
    "    port=5432\n",
    ")\n",
    "cursor = conn.cursor()\n",
    "\n",
    "print(\"Kafka-to-Postgres processor running...\")\n",
    "\n",
    "for msg in consumer:\n",
    "    data = msg.value\n",
    "    cursor.execute(\n",
    "        \"INSERT INTO sensor_data (sensor_id, temperature, timestamp) VALUES (%s, %s, %s)\",\n",
    "        (data['sensor_id'], data['temperature'], data['timestamp'])\n",
    "    )\n",
    "    conn.commit()\n",
    "    print(f\"Inserted into DB: {data}\")\n"
   ]
  }
 ],
 "metadata": {
  "kernelspec": {
   "display_name": "nosql_venv",
   "language": "python",
   "name": "python3"
  },
  "language_info": {
   "codemirror_mode": {
    "name": "ipython",
    "version": 3
   },
   "file_extension": ".py",
   "mimetype": "text/x-python",
   "name": "python",
   "nbconvert_exporter": "python",
   "pygments_lexer": "ipython3",
   "version": "3.11.2"
  }
 },
 "nbformat": 4,
 "nbformat_minor": 2
}
