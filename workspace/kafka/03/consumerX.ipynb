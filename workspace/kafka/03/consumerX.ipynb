{
 "cells": [
  {
   "cell_type": "code",
   "execution_count": 3,
   "metadata": {},
   "outputs": [],
   "source": [
    "from kafka import KafkaConsumer, TopicPartition\n",
    "import json\n",
    "import threading"
   ]
  },
  {
   "cell_type": "code",
   "execution_count": null,
   "metadata": {},
   "outputs": [],
   "source": [
    "def consume(client_id):\n",
    "    consumer = KafkaConsumer(\n",
    "        bootstrap_servers='kafka_streaming_lab:9092',\n",
    "        auto_offset_reset='earliest',\n",
    "        enable_auto_commit=True,\n",
    "        group_id='groupX',\n",
    "        client_id=client_id,\n",
    "        value_deserializer=lambda m: json.loads(m.decode('utf-8'))\n",
    "    )\n",
    "\n",
    "    # Ręczne przypisanie partycji\n",
    "    tp = TopicPartition('lab3-topic-test', 0)\n",
    "    consumer.assign([tp])\n",
    "\n",
    "    for msg in consumer:\n",
    "        print(f\"[{client_id}] Received from partition {msg.partition}: {msg.value}\")\n",
    "\n",
    "# Można uruchomić kilka instancji tego skryptu równolegle\n",
    "consume('client-X')\n"
   ]
  }
 ],
 "metadata": {
  "kernelspec": {
   "display_name": "nosql_venv",
   "language": "python",
   "name": "python3"
  },
  "language_info": {
   "codemirror_mode": {
    "name": "ipython",
    "version": 3
   },
   "file_extension": ".py",
   "mimetype": "text/x-python",
   "name": "python",
   "nbconvert_exporter": "python",
   "pygments_lexer": "ipython3",
   "version": "3.11.2"
  }
 },
 "nbformat": 4,
 "nbformat_minor": 2
}
