{
 "cells": [
  {
   "cell_type": "code",
   "execution_count": null,
   "metadata": {},
   "outputs": [],
   "source": [
    "from kafka import KafkaProducer\n",
    "import json\n",
    "import time\n",
    "\n",
    "producer = KafkaProducer(\n",
    "    bootstrap_servers='kafka_streaming_lab:9092',\n",
    "    value_serializer=lambda v: json.dumps(v).encode('utf-8')\n",
    ")\n",
    "\n",
    "topic = 'lab3-topic-test'\n",
    "\n",
    "for i in range(150):\n",
    "    message = {\n",
    "        \"id\": i,\n",
    "        \"value\": f\"Message {i}\"\n",
    "    }\n",
    "    # klucz decyduje o partycji (modulo liczby partycji)\n",
    "    key = str(i % 3).encode('utf-8')\n",
    "    # key = str(0).encode('utf-8')\n",
    "    future = producer.send(topic, key=key, value=message)\n",
    "    # print(f\"Sent: {message} to partition {int(key)}\")\n",
    "    time.sleep(0.5)\n",
    "    metadata = future.get(timeout=10)\n",
    "    print(f\"Sent: {message} → Key: {key.decode()} → Partition: {metadata.partition}\")\n",
    "\n",
    "\n",
    "producer.flush()\n",
    "producer.close()\n"
   ]
  }
 ],
 "metadata": {
  "kernelspec": {
   "display_name": "nosql_venv",
   "language": "python",
   "name": "python3"
  },
  "language_info": {
   "codemirror_mode": {
    "name": "ipython",
    "version": 3
   },
   "file_extension": ".py",
   "mimetype": "text/x-python",
   "name": "python",
   "nbconvert_exporter": "python",
   "pygments_lexer": "ipython3",
   "version": "3.11.2"
  }
 },
 "nbformat": 4,
 "nbformat_minor": 2
}
