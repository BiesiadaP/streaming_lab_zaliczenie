{
 "cells": [
  {
   "cell_type": "code",
   "execution_count": null,
   "metadata": {},
   "outputs": [],
   "source": [
    "from kafka import KafkaProducer\n",
    "import json\n",
    "import time\n",
    "\n",
    "producer = KafkaProducer(\n",
    "    bootstrap_servers='kafka_streaming_lab:9092',\n",
    "    value_serializer=lambda v: json.dumps(v).encode('utf-8')\n",
    ")\n",
    "\n",
    "topic = 'lab2-topic'\n",
    "\n",
    "for i in range(50):\n",
    "    data = {\n",
    "        \"id\": i,\n",
    "        \"temperature\": round(20 + 5 * i, 2),\n",
    "        \"timestamp\": time.time()\n",
    "    }\n",
    "    producer.send(topic, value=data)\n",
    "    print(f\"Sent: {data}\")\n",
    "    time.sleep(1)\n",
    "\n",
    "producer.flush()\n",
    "producer.close()\n"
   ]
  }
 ],
 "metadata": {
  "kernelspec": {
   "display_name": "nosql_venv",
   "language": "python",
   "name": "python3"
  },
  "language_info": {
   "codemirror_mode": {
    "name": "ipython",
    "version": 3
   },
   "file_extension": ".py",
   "mimetype": "text/x-python",
   "name": "python",
   "nbconvert_exporter": "python",
   "pygments_lexer": "ipython3",
   "version": "3.11.2"
  }
 },
 "nbformat": 4,
 "nbformat_minor": 2
}
