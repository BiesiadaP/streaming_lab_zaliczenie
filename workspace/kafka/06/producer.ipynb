{
 "cells": [
  {
   "cell_type": "code",
   "execution_count": null,
   "metadata": {},
   "outputs": [],
   "source": [
    "from kafka import KafkaProducer\n",
    "import json\n",
    "import time\n",
    "import random\n",
    "\n",
    "producer = KafkaProducer(\n",
    "    bootstrap_servers='kafka_streaming_lab:9092',\n",
    "    value_serializer=lambda v: json.dumps(v).encode('utf-8')\n",
    ")\n",
    "\n",
    "topic = 'lab6-topic'\n",
    "\n",
    "# część danych będzie celowo błędna\n",
    "samples = [\n",
    "    {\"id\": 1, \"value\": \"OK\"},\n",
    "    {\"id\": 2, \"value\": \"FAIL\"},\n",
    "    {\"id\": 3, \"value\": \"OK\"},\n",
    "    {\"id\": 4, \"value\": \"FAIL\"}\n",
    "]\n",
    "\n",
    "for msg in samples:\n",
    "    msg[\"retries\"] = 0\n",
    "    producer.send(topic, value=msg)\n",
    "    print(f\"Sent: {msg}\")\n",
    "    time.sleep(1)\n",
    "\n",
    "producer.flush()\n",
    "producer.close()\n"
   ]
  }
 ],
 "metadata": {
  "kernelspec": {
   "display_name": "nosql_venv",
   "language": "python",
   "name": "python3"
  },
  "language_info": {
   "codemirror_mode": {
    "name": "ipython",
    "version": 3
   },
   "file_extension": ".py",
   "mimetype": "text/x-python",
   "name": "python",
   "nbconvert_exporter": "python",
   "pygments_lexer": "ipython3",
   "version": "3.11.2"
  }
 },
 "nbformat": 4,
 "nbformat_minor": 2
}
