{
 "cells": [
  {
   "cell_type": "code",
   "execution_count": null,
   "metadata": {},
   "outputs": [],
   "source": [
    "from kafka import KafkaConsumer, KafkaProducer\n",
    "import json\n",
    "import time\n",
    "\n",
    "MAX_RETRIES = 2\n",
    "\n",
    "consumer = KafkaConsumer(\n",
    "    'lab6-topic',\n",
    "    'lab6-topic-retry',\n",
    "    bootstrap_servers='kafka_streaming_lab:9092',\n",
    "    auto_offset_reset='earliest',\n",
    "    enable_auto_commit=True,\n",
    "    group_id='lab6-processor',\n",
    "    value_deserializer=lambda m: json.loads(m.decode('utf-8'))\n",
    ")\n",
    "\n",
    "producer = KafkaProducer(\n",
    "    bootstrap_servers='kafka_streaming_lab:9092',\n",
    "    value_serializer=lambda v: json.dumps(v).encode('utf-8')\n",
    ")\n",
    "\n",
    "def process(msg):\n",
    "    if msg['value'] == 'FAIL':\n",
    "        raise Exception(\"Simulated failure\")\n",
    "    print(f\"Processed: {msg}\")\n",
    "\n",
    "print(\"Retry processor running...\")\n",
    "\n",
    "for message in consumer:\n",
    "    data = message.value\n",
    "    try:\n",
    "        process(data)\n",
    "    except Exception as e:\n",
    "        retries = data.get('retries', 0)\n",
    "        if retries < MAX_RETRIES:\n",
    "            data['retries'] = retries + 1\n",
    "            producer.send('lab6-topic-retry', value=data)\n",
    "            print(f\"Retrying ({data['retries']}): {data}\")\n",
    "        else:\n",
    "            producer.send('lab6-topic-dlq', value=data)\n",
    "            print(f\"Moved to DLQ: {data}\")\n",
    "    time.sleep(1)\n"
   ]
  }
 ],
 "metadata": {
  "kernelspec": {
   "display_name": "nosql_venv",
   "language": "python",
   "name": "python3"
  },
  "language_info": {
   "codemirror_mode": {
    "name": "ipython",
    "version": 3
   },
   "file_extension": ".py",
   "mimetype": "text/x-python",
   "name": "python",
   "nbconvert_exporter": "python",
   "pygments_lexer": "ipython3",
   "version": "3.11.2"
  }
 },
 "nbformat": 4,
 "nbformat_minor": 2
}
