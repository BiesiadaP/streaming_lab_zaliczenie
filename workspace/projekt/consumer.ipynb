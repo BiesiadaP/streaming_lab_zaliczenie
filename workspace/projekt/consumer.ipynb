{
 "cells": [
  {
   "cell_type": "code",
   "execution_count": 8,
   "metadata": {},
   "outputs": [
    {
     "name": "stdout",
     "output_type": "stream",
     "text": [
      "Kafka-to-Postgres processor running...\n",
      "Inserted into DB: {'device_id': 'sensor-001', 'temperature': 24.88, 'humidity': 75.72, 'timestamp': 1748018104.9080675}\n",
      "Inserted into DB: {'device_id': 'sensor-002', 'temperature': 14.13, 'humidity': 10.83, 'timestamp': 1748018105.4085402}\n",
      "Inserted into DB: {'device_id': 'sensor-002', 'temperature': 14.08, 'humidity': 81.76, 'timestamp': 1748018115.9208407}\n",
      "Inserted into DB: {'device_id': 'sensor-002', 'temperature': 41.47, 'humidity': 30.29, 'timestamp': 1748018126.4338858}\n",
      "Inserted into DB: {'device_id': 'sensor-002', 'temperature': 0.65, 'humidity': 67.68, 'timestamp': 1748018124.932548}\n",
      "Inserted into DB: {'device_id': 'sensor-001', 'temperature': 49.53, 'humidity': 76.06, 'timestamp': 1748018150.2272983}\n",
      "Inserted into DB: {'device_id': 'sensor-002', 'temperature': 16.67, 'humidity': 17.78, 'timestamp': 1748018153.7334106}\n",
      "Inserted into DB: {'device_id': 'sensor-000', 'temperature': 26.91, 'humidity': 0.65, 'timestamp': 1748018154.233963}\n",
      "Inserted into DB: {'device_id': 'sensor-001', 'temperature': 3.78, 'humidity': 92.04, 'timestamp': 1748018157.7378836}\n",
      "Inserted into DB: {'device_id': 'sensor-000', 'temperature': 18.49, 'humidity': 87.6, 'timestamp': 1748018164.7492166}\n",
      "Inserted into DB: {'device_id': 'sensor-001', 'temperature': 48.15, 'humidity': 37.83, 'timestamp': 1748018165.2497845}\n",
      "Inserted into DB: {'device_id': 'sensor-000', 'temperature': 6.7, 'humidity': 3.47, 'timestamp': 1748018166.2513661}\n",
      "Inserted into DB: {'device_id': 'sensor-000', 'temperature': 47.55, 'humidity': 36.01, 'timestamp': 1748018169.2546825}\n",
      "Inserted into DB: {'device_id': 'sensor-001', 'temperature': 35.77, 'humidity': 5.89, 'timestamp': 1748018171.2574136}\n"
     ]
    },
    {
     "ename": "KeyboardInterrupt",
     "evalue": "",
     "output_type": "error",
     "traceback": [
      "\u001b[31m---------------------------------------------------------------------------\u001b[39m",
      "\u001b[31mKeyboardInterrupt\u001b[39m                         Traceback (most recent call last)",
      "\u001b[36mCell\u001b[39m\u001b[36m \u001b[39m\u001b[32mIn[8]\u001b[39m\u001b[32m, line 27\u001b[39m\n\u001b[32m     23\u001b[39m cursor = conn.cursor()\n\u001b[32m     25\u001b[39m \u001b[38;5;28mprint\u001b[39m(\u001b[33m\"\u001b[39m\u001b[33mKafka-to-Postgres processor running...\u001b[39m\u001b[33m\"\u001b[39m)\n\u001b[32m---> \u001b[39m\u001b[32m27\u001b[39m \u001b[38;5;28;43;01mfor\u001b[39;49;00m\u001b[43m \u001b[49m\u001b[43mmsg\u001b[49m\u001b[43m \u001b[49m\u001b[38;5;129;43;01min\u001b[39;49;00m\u001b[43m \u001b[49m\u001b[43mconsumer\u001b[49m\u001b[43m:\u001b[49m\n\u001b[32m     28\u001b[39m \u001b[43m    \u001b[49m\u001b[43mdata\u001b[49m\u001b[43m \u001b[49m\u001b[43m=\u001b[49m\u001b[43m \u001b[49m\u001b[43mmsg\u001b[49m\u001b[43m.\u001b[49m\u001b[43mvalue\u001b[49m\n\u001b[32m     29\u001b[39m \u001b[43m    \u001b[49m\u001b[43mevent_time\u001b[49m\u001b[43m \u001b[49m\u001b[43m=\u001b[49m\u001b[43m \u001b[49m\u001b[43mdatetime\u001b[49m\u001b[43m.\u001b[49m\u001b[43mdatetime\u001b[49m\u001b[43m.\u001b[49m\u001b[43mfromtimestamp\u001b[49m\u001b[43m(\u001b[49m\u001b[43mdata\u001b[49m\u001b[43m[\u001b[49m\u001b[33;43m'\u001b[39;49m\u001b[33;43mtimestamp\u001b[39;49m\u001b[33;43m'\u001b[39;49m\u001b[43m]\u001b[49m\u001b[43m)\u001b[49m\n",
      "\u001b[36mFile \u001b[39m\u001b[32m~/nosql_venv/lib/python3.11/site-packages/kafka/consumer/group.py:1181\u001b[39m, in \u001b[36mKafkaConsumer.__next__\u001b[39m\u001b[34m(self)\u001b[39m\n\u001b[32m   1179\u001b[39m     \u001b[38;5;28;01mreturn\u001b[39;00m \u001b[38;5;28mself\u001b[39m.next_v1()\n\u001b[32m   1180\u001b[39m \u001b[38;5;28;01melse\u001b[39;00m:\n\u001b[32m-> \u001b[39m\u001b[32m1181\u001b[39m     \u001b[38;5;28;01mreturn\u001b[39;00m \u001b[38;5;28;43mself\u001b[39;49m\u001b[43m.\u001b[49m\u001b[43mnext_v2\u001b[49m\u001b[43m(\u001b[49m\u001b[43m)\u001b[49m\n",
      "\u001b[36mFile \u001b[39m\u001b[32m~/nosql_venv/lib/python3.11/site-packages/kafka/consumer/group.py:1189\u001b[39m, in \u001b[36mKafkaConsumer.next_v2\u001b[39m\u001b[34m(self)\u001b[39m\n\u001b[32m   1187\u001b[39m     \u001b[38;5;28mself\u001b[39m._iterator = \u001b[38;5;28mself\u001b[39m._message_generator_v2()\n\u001b[32m   1188\u001b[39m \u001b[38;5;28;01mtry\u001b[39;00m:\n\u001b[32m-> \u001b[39m\u001b[32m1189\u001b[39m     \u001b[38;5;28;01mreturn\u001b[39;00m \u001b[38;5;28mnext\u001b[39m(\u001b[38;5;28mself\u001b[39m._iterator)\n\u001b[32m   1190\u001b[39m \u001b[38;5;28;01mexcept\u001b[39;00m \u001b[38;5;167;01mStopIteration\u001b[39;00m:\n\u001b[32m   1191\u001b[39m     \u001b[38;5;28mself\u001b[39m._iterator = \u001b[38;5;28;01mNone\u001b[39;00m\n",
      "\u001b[36mFile \u001b[39m\u001b[32m~/nosql_venv/lib/python3.11/site-packages/kafka/consumer/group.py:1106\u001b[39m, in \u001b[36mKafkaConsumer._message_generator_v2\u001b[39m\u001b[34m(self)\u001b[39m\n\u001b[32m   1104\u001b[39m \u001b[38;5;28;01mdef\u001b[39;00m\u001b[38;5;250m \u001b[39m\u001b[34m_message_generator_v2\u001b[39m(\u001b[38;5;28mself\u001b[39m):\n\u001b[32m   1105\u001b[39m     timeout_ms = \u001b[32m1000\u001b[39m * (\u001b[38;5;28mself\u001b[39m._consumer_timeout - time.time())\n\u001b[32m-> \u001b[39m\u001b[32m1106\u001b[39m     record_map = \u001b[38;5;28;43mself\u001b[39;49m\u001b[43m.\u001b[49m\u001b[43mpoll\u001b[49m\u001b[43m(\u001b[49m\u001b[43mtimeout_ms\u001b[49m\u001b[43m=\u001b[49m\u001b[43mtimeout_ms\u001b[49m\u001b[43m,\u001b[49m\u001b[43m \u001b[49m\u001b[43mupdate_offsets\u001b[49m\u001b[43m=\u001b[49m\u001b[38;5;28;43;01mFalse\u001b[39;49;00m\u001b[43m)\u001b[49m\n\u001b[32m   1107\u001b[39m     \u001b[38;5;28;01mfor\u001b[39;00m tp, records \u001b[38;5;129;01min\u001b[39;00m six.iteritems(record_map):\n\u001b[32m   1108\u001b[39m         \u001b[38;5;66;03m# Generators are stateful, and it is possible that the tp / records\u001b[39;00m\n\u001b[32m   1109\u001b[39m         \u001b[38;5;66;03m# here may become stale during iteration -- i.e., we seek to a\u001b[39;00m\n\u001b[32m   1110\u001b[39m         \u001b[38;5;66;03m# different offset, pause consumption, or lose assignment.\u001b[39;00m\n\u001b[32m   1111\u001b[39m         \u001b[38;5;28;01mfor\u001b[39;00m record \u001b[38;5;129;01min\u001b[39;00m records:\n\u001b[32m   1112\u001b[39m             \u001b[38;5;66;03m# is_fetchable(tp) should handle assignment changes and offset\u001b[39;00m\n\u001b[32m   1113\u001b[39m             \u001b[38;5;66;03m# resets; for all other changes (e.g., seeks) we'll rely on the\u001b[39;00m\n\u001b[32m   1114\u001b[39m             \u001b[38;5;66;03m# outer function destroying the existing iterator/generator\u001b[39;00m\n\u001b[32m   1115\u001b[39m             \u001b[38;5;66;03m# via self._iterator = None\u001b[39;00m\n",
      "\u001b[36mFile \u001b[39m\u001b[32m~/nosql_venv/lib/python3.11/site-packages/kafka/consumer/group.py:645\u001b[39m, in \u001b[36mKafkaConsumer.poll\u001b[39m\u001b[34m(self, timeout_ms, max_records, update_offsets)\u001b[39m\n\u001b[32m    643\u001b[39m remaining = timeout_ms\n\u001b[32m    644\u001b[39m \u001b[38;5;28;01mwhile\u001b[39;00m \u001b[38;5;28;01mTrue\u001b[39;00m:\n\u001b[32m--> \u001b[39m\u001b[32m645\u001b[39m     records = \u001b[38;5;28;43mself\u001b[39;49m\u001b[43m.\u001b[49m\u001b[43m_poll_once\u001b[49m\u001b[43m(\u001b[49m\u001b[43mremaining\u001b[49m\u001b[43m,\u001b[49m\u001b[43m \u001b[49m\u001b[43mmax_records\u001b[49m\u001b[43m,\u001b[49m\u001b[43m \u001b[49m\u001b[43mupdate_offsets\u001b[49m\u001b[43m=\u001b[49m\u001b[43mupdate_offsets\u001b[49m\u001b[43m)\u001b[49m\n\u001b[32m    646\u001b[39m     \u001b[38;5;28;01mif\u001b[39;00m records:\n\u001b[32m    647\u001b[39m         \u001b[38;5;28;01mreturn\u001b[39;00m records\n",
      "\u001b[36mFile \u001b[39m\u001b[32m~/nosql_venv/lib/python3.11/site-packages/kafka/consumer/group.py:692\u001b[39m, in \u001b[36mKafkaConsumer._poll_once\u001b[39m\u001b[34m(self, timeout_ms, max_records, update_offsets)\u001b[39m\n\u001b[32m    689\u001b[39m     \u001b[38;5;28mself\u001b[39m._client.poll(timeout_ms=\u001b[32m0\u001b[39m)\n\u001b[32m    691\u001b[39m timeout_ms = \u001b[38;5;28mmin\u001b[39m(timeout_ms, \u001b[38;5;28mself\u001b[39m._coordinator.time_to_next_poll() * \u001b[32m1000\u001b[39m)\n\u001b[32m--> \u001b[39m\u001b[32m692\u001b[39m \u001b[38;5;28;43mself\u001b[39;49m\u001b[43m.\u001b[49m\u001b[43m_client\u001b[49m\u001b[43m.\u001b[49m\u001b[43mpoll\u001b[49m\u001b[43m(\u001b[49m\u001b[43mtimeout_ms\u001b[49m\u001b[43m=\u001b[49m\u001b[43mtimeout_ms\u001b[49m\u001b[43m)\u001b[49m\n\u001b[32m    693\u001b[39m \u001b[38;5;66;03m# after the long poll, we should check whether the group needs to rebalance\u001b[39;00m\n\u001b[32m    694\u001b[39m \u001b[38;5;66;03m# prior to returning data so that the group can stabilize faster\u001b[39;00m\n\u001b[32m    695\u001b[39m \u001b[38;5;28;01mif\u001b[39;00m \u001b[38;5;28mself\u001b[39m._coordinator.need_rejoin():\n",
      "\u001b[36mFile \u001b[39m\u001b[32m~/nosql_venv/lib/python3.11/site-packages/kafka/client_async.py:598\u001b[39m, in \u001b[36mKafkaClient.poll\u001b[39m\u001b[34m(self, timeout_ms, future)\u001b[39m\n\u001b[32m    595\u001b[39m             timeout = \u001b[38;5;28mmin\u001b[39m(timeout, \u001b[38;5;28mself\u001b[39m.config[\u001b[33m'\u001b[39m\u001b[33mretry_backoff_ms\u001b[39m\u001b[33m'\u001b[39m])\n\u001b[32m    596\u001b[39m         timeout = \u001b[38;5;28mmax\u001b[39m(\u001b[32m0\u001b[39m, timeout)  \u001b[38;5;66;03m# avoid negative timeouts\u001b[39;00m\n\u001b[32m--> \u001b[39m\u001b[32m598\u001b[39m     \u001b[38;5;28;43mself\u001b[39;49m\u001b[43m.\u001b[49m\u001b[43m_poll\u001b[49m\u001b[43m(\u001b[49m\u001b[43mtimeout\u001b[49m\u001b[43m \u001b[49m\u001b[43m/\u001b[49m\u001b[43m \u001b[49m\u001b[32;43m1000\u001b[39;49m\u001b[43m)\u001b[49m\n\u001b[32m    600\u001b[39m \u001b[38;5;66;03m# called without the lock to avoid deadlock potential\u001b[39;00m\n\u001b[32m    601\u001b[39m \u001b[38;5;66;03m# if handlers need to acquire locks\u001b[39;00m\n\u001b[32m    602\u001b[39m responses.extend(\u001b[38;5;28mself\u001b[39m._fire_pending_completed_requests())\n",
      "\u001b[36mFile \u001b[39m\u001b[32m~/nosql_venv/lib/python3.11/site-packages/kafka/client_async.py:630\u001b[39m, in \u001b[36mKafkaClient._poll\u001b[39m\u001b[34m(self, timeout)\u001b[39m\n\u001b[32m    627\u001b[39m \u001b[38;5;28mself\u001b[39m._register_send_sockets()\n\u001b[32m    629\u001b[39m start_select = time.time()\n\u001b[32m--> \u001b[39m\u001b[32m630\u001b[39m ready = \u001b[38;5;28;43mself\u001b[39;49m\u001b[43m.\u001b[49m\u001b[43m_selector\u001b[49m\u001b[43m.\u001b[49m\u001b[43mselect\u001b[49m\u001b[43m(\u001b[49m\u001b[43mtimeout\u001b[49m\u001b[43m)\u001b[49m\n\u001b[32m    631\u001b[39m end_select = time.time()\n\u001b[32m    632\u001b[39m \u001b[38;5;28;01mif\u001b[39;00m \u001b[38;5;28mself\u001b[39m._sensors:\n",
      "\u001b[36mFile \u001b[39m\u001b[32m/usr/lib/python3.11/selectors.py:468\u001b[39m, in \u001b[36mEpollSelector.select\u001b[39m\u001b[34m(self, timeout)\u001b[39m\n\u001b[32m    466\u001b[39m ready = []\n\u001b[32m    467\u001b[39m \u001b[38;5;28;01mtry\u001b[39;00m:\n\u001b[32m--> \u001b[39m\u001b[32m468\u001b[39m     fd_event_list = \u001b[38;5;28mself\u001b[39m._selector.poll(timeout, max_ev)\n\u001b[32m    469\u001b[39m \u001b[38;5;28;01mexcept\u001b[39;00m \u001b[38;5;167;01mInterruptedError\u001b[39;00m:\n\u001b[32m    470\u001b[39m     \u001b[38;5;28;01mreturn\u001b[39;00m ready\n",
      "\u001b[31mKeyboardInterrupt\u001b[39m: "
     ]
    }
   ],
   "source": [
    "from kafka import KafkaConsumer\n",
    "import psycopg2\n",
    "import json\n",
    "import datetime\n",
    "\n",
    "consumer = KafkaConsumer(\n",
    "    'iot_data',\n",
    "    bootstrap_servers='kafka_streaming_lab:9092',\n",
    "    auto_offset_reset='earliest',\n",
    "    enable_auto_commit=True,\n",
    "    group_id='valid-pg',\n",
    "    value_deserializer=lambda m: json.loads(m.decode('utf-8'))\n",
    ")\n",
    "\n",
    "# Połączenie z PostgreSQL\n",
    "conn = psycopg2.connect(\n",
    "    dbname='mydb',\n",
    "    user='myuser',\n",
    "    password='myuserpass',\n",
    "    host='postgres',\n",
    "    port=5432\n",
    ")\n",
    "cursor = conn.cursor()\n",
    "\n",
    "print(\"Kafka-to-Postgres processor running...\")\n",
    "\n",
    "for msg in consumer:\n",
    "    data = msg.value\n",
    "    event_time = datetime.datetime.fromtimestamp(data['timestamp'])\n",
    "    cursor.execute(\n",
    "        \"INSERT INTO iot_data (device_id, temperature, humidity, event_timestamp) VALUES (%s, %s, %s, %s)\",\n",
    "        (data['device_id'], data['temperature'], data['humidity'], event_time)\n",
    "    )\n",
    "    conn.commit()\n",
    "    print(f\"Inserted into DB: {data}\")\n"
   ]
  }
 ],
 "metadata": {
  "kernelspec": {
   "display_name": "nosql_venv",
   "language": "python",
   "name": "python3"
  },
  "language_info": {
   "codemirror_mode": {
    "name": "ipython",
    "version": 3
   },
   "file_extension": ".py",
   "mimetype": "text/x-python",
   "name": "python",
   "nbconvert_exporter": "python",
   "pygments_lexer": "ipython3",
   "version": "3.11.2"
  }
 },
 "nbformat": 4,
 "nbformat_minor": 2
}
