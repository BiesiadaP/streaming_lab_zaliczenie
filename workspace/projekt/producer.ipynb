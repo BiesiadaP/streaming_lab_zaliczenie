{
 "cells": [
  {
   "cell_type": "code",
   "execution_count": 11,
   "metadata": {},
   "outputs": [
    {
     "name": "stdout",
     "output_type": "stream",
     "text": [
      "Sent: {'device_id': 'sensor-000', 'temperature': 0.21, 'humidity': 107.34, 'timestamp': 1748018146.7223399}\n",
      "Sent: {'device_id': 'sensor-001', 'temperature': 79.44, 'humidity': 62.83, 'timestamp': 1748018147.223568}\n",
      "Sent: {'device_id': 'sensor-002', 'temperature': -32.56, 'humidity': 162.19, 'timestamp': 1748018147.7239046}\n",
      "Sent: {'device_id': 'sensor-000', 'temperature': -40.32, 'humidity': 121.01, 'timestamp': 1748018148.224579}\n",
      "Sent: {'device_id': 'sensor-001', 'temperature': 70.64, 'humidity': 47.49, 'timestamp': 1748018148.7253864}\n",
      "Sent: {'device_id': 'sensor-002', 'temperature': 10.95, 'humidity': 185.86, 'timestamp': 1748018149.22588}\n",
      "Sent: {'device_id': 'sensor-000', 'temperature': 46.71, 'humidity': 106.26, 'timestamp': 1748018149.7268493}\n",
      "Sent: {'device_id': 'sensor-001', 'temperature': 49.53, 'humidity': 76.06, 'timestamp': 1748018150.2272983}\n",
      "Sent: {'device_id': 'sensor-002', 'temperature': 95.77, 'humidity': 70.02, 'timestamp': 1748018150.7282305}\n",
      "Sent: {'device_id': 'sensor-000', 'temperature': 69.52, 'humidity': 126.66, 'timestamp': 1748018151.2286894}\n",
      "Sent: {'device_id': 'sensor-001', 'temperature': 82.39, 'humidity': 24.13, 'timestamp': 1748018151.7304952}\n",
      "Sent: {'device_id': 'sensor-002', 'temperature': -38.22, 'humidity': 65.03, 'timestamp': 1748018152.2310953}\n",
      "Sent: {'device_id': 'sensor-000', 'temperature': -41.8, 'humidity': 8.3, 'timestamp': 1748018152.7322474}\n",
      "Sent: {'device_id': 'sensor-001', 'temperature': 37.48, 'humidity': 116.79, 'timestamp': 1748018153.2328901}\n",
      "Sent: {'device_id': 'sensor-002', 'temperature': 16.67, 'humidity': 17.78, 'timestamp': 1748018153.7334106}\n",
      "Sent: {'device_id': 'sensor-000', 'temperature': 26.91, 'humidity': 0.65, 'timestamp': 1748018154.233963}\n",
      "Sent: {'device_id': 'sensor-001', 'temperature': 50.65, 'humidity': 126.95, 'timestamp': 1748018154.7347791}\n",
      "Sent: {'device_id': 'sensor-002', 'temperature': -3.66, 'humidity': 141.29, 'timestamp': 1748018155.2352502}\n",
      "Sent: {'device_id': 'sensor-000', 'temperature': -28.13, 'humidity': 122.42, 'timestamp': 1748018155.7358763}\n",
      "Sent: {'device_id': 'sensor-001', 'temperature': 86.72, 'humidity': 64.66, 'timestamp': 1748018156.2364275}\n",
      "Sent: {'device_id': 'sensor-002', 'temperature': 53.87, 'humidity': 161.14, 'timestamp': 1748018156.7369022}\n",
      "Sent: {'device_id': 'sensor-000', 'temperature': -3.59, 'humidity': 197.85, 'timestamp': 1748018157.2373233}\n",
      "Sent: {'device_id': 'sensor-001', 'temperature': 3.78, 'humidity': 92.04, 'timestamp': 1748018157.7378836}\n",
      "Sent: {'device_id': 'sensor-002', 'temperature': -18.79, 'humidity': 158.67, 'timestamp': 1748018158.2385805}\n",
      "Sent: {'device_id': 'sensor-000', 'temperature': -13.75, 'humidity': 149.13, 'timestamp': 1748018158.7390397}\n",
      "Sent: {'device_id': 'sensor-001', 'temperature': -32.65, 'humidity': 164.05, 'timestamp': 1748018159.2401383}\n",
      "Sent: {'device_id': 'sensor-002', 'temperature': -41.52, 'humidity': 121.44, 'timestamp': 1748018159.7408826}\n",
      "Sent: {'device_id': 'sensor-000', 'temperature': 95.16, 'humidity': 46.8, 'timestamp': 1748018160.2419884}\n",
      "Sent: {'device_id': 'sensor-001', 'temperature': -24.4, 'humidity': 65.94, 'timestamp': 1748018160.7428768}\n",
      "Sent: {'device_id': 'sensor-002', 'temperature': 51.41, 'humidity': 126.05, 'timestamp': 1748018161.2439134}\n",
      "Sent: {'device_id': 'sensor-000', 'temperature': -20.29, 'humidity': 0.41, 'timestamp': 1748018161.7450132}\n",
      "Sent: {'device_id': 'sensor-001', 'temperature': -13.73, 'humidity': 48.3, 'timestamp': 1748018162.2453642}\n",
      "Sent: {'device_id': 'sensor-002', 'temperature': 59.82, 'humidity': 67.37, 'timestamp': 1748018162.7463717}\n",
      "Sent: {'device_id': 'sensor-000', 'temperature': -41.13, 'humidity': 152.48, 'timestamp': 1748018163.246889}\n",
      "Sent: {'device_id': 'sensor-001', 'temperature': -35.18, 'humidity': 18.15, 'timestamp': 1748018163.7478735}\n",
      "Sent: {'device_id': 'sensor-002', 'temperature': -17.64, 'humidity': 150.73, 'timestamp': 1748018164.2483172}\n",
      "Sent: {'device_id': 'sensor-000', 'temperature': 18.49, 'humidity': 87.6, 'timestamp': 1748018164.7492166}\n",
      "Sent: {'device_id': 'sensor-001', 'temperature': 48.15, 'humidity': 37.83, 'timestamp': 1748018165.2497845}\n",
      "Sent: {'device_id': 'sensor-002', 'temperature': 0.91, 'humidity': 149.89, 'timestamp': 1748018165.7508583}\n",
      "Sent: {'device_id': 'sensor-000', 'temperature': 6.7, 'humidity': 3.47, 'timestamp': 1748018166.2513661}\n",
      "Sent: {'device_id': 'sensor-001', 'temperature': 29.73, 'humidity': 163.08, 'timestamp': 1748018166.7517672}\n",
      "Sent: {'device_id': 'sensor-002', 'temperature': -20.47, 'humidity': 125.8, 'timestamp': 1748018167.25234}\n",
      "Sent: {'device_id': 'sensor-000', 'temperature': -42.55, 'humidity': 73.83, 'timestamp': 1748018167.7527978}\n",
      "Sent: {'device_id': 'sensor-001', 'temperature': 97.5, 'humidity': 89.88, 'timestamp': 1748018168.2533267}\n",
      "Sent: {'device_id': 'sensor-002', 'temperature': 61.22, 'humidity': 62.88, 'timestamp': 1748018168.7541015}\n",
      "Sent: {'device_id': 'sensor-000', 'temperature': 47.55, 'humidity': 36.01, 'timestamp': 1748018169.2546825}\n",
      "Sent: {'device_id': 'sensor-001', 'temperature': 56.05, 'humidity': 197.64, 'timestamp': 1748018169.7558825}\n",
      "Sent: {'device_id': 'sensor-002', 'temperature': -42.93, 'humidity': 24.95, 'timestamp': 1748018170.2564166}\n",
      "Sent: {'device_id': 'sensor-000', 'temperature': -1.0, 'humidity': 81.44, 'timestamp': 1748018170.7567658}\n",
      "Sent: {'device_id': 'sensor-001', 'temperature': 35.77, 'humidity': 5.89, 'timestamp': 1748018171.2574136}\n"
     ]
    }
   ],
   "source": [
    "from kafka import KafkaProducer\n",
    "import json\n",
    "import time\n",
    "import random\n",
    "\n",
    "producer = KafkaProducer(\n",
    "    bootstrap_servers='kafka_streaming_lab:9092',\n",
    "    value_serializer=lambda v: json.dumps(v).encode('utf-8')\n",
    ")\n",
    "\n",
    "topic = 'raw_iot'\n",
    "\n",
    "for i in range(50):\n",
    "    msg = {\n",
    "        \"device_id\": f\"sensor-00{i % 3}\",\n",
    "        \"temperature\": round(random.uniform(-50, 100), 2),\n",
    "        \"humidity\": round(random.uniform(0, 200), 2),\n",
    "        \"timestamp\": time.time()\n",
    "    }\n",
    "    producer.send(topic, value=msg)\n",
    "    print(f\"Sent: {msg}\")\n",
    "    time.sleep(0.5)\n",
    "\n",
    "producer.flush()\n",
    "producer.close()\n"
   ]
  }
 ],
 "metadata": {
  "kernelspec": {
   "display_name": "nosql_venv",
   "language": "python",
   "name": "python3"
  },
  "language_info": {
   "codemirror_mode": {
    "name": "ipython",
    "version": 3
   },
   "file_extension": ".py",
   "mimetype": "text/x-python",
   "name": "python",
   "nbconvert_exporter": "python",
   "pygments_lexer": "ipython3",
   "version": "3.11.2"
  }
 },
 "nbformat": 4,
 "nbformat_minor": 2
}
